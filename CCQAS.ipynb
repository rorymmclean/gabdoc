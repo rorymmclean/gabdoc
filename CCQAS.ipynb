{
 "cells": [
  {
   "cell_type": "markdown",
   "id": "74b6195c",
   "metadata": {},
   "source": [
    "# Imports"
   ]
  },
  {
   "cell_type": "code",
   "execution_count": 55,
   "id": "5d9ec759",
   "metadata": {
    "ExecuteTime": {
     "end_time": "2023-07-28T18:29:10.911935Z",
     "start_time": "2023-07-28T18:29:10.906280Z"
    },
    "scrolled": true
   },
   "outputs": [],
   "source": [
    "from langchain.embeddings.openai import OpenAIEmbeddings\n",
    "from langchain.text_splitter import RecursiveCharacterTextSplitter\n",
    "from langchain.embeddings.openai import OpenAIEmbeddings\n",
    "from langchain.vectorstores import Chroma\n",
    "from langchain.llms import OpenAI\n",
    "from langchain.chat_models import ChatOpenAI\n",
    "import langchain\n",
    "from langchain.cache import InMemoryCache\n",
    "langchain.llm_cache = InMemoryCache()\n",
    "from langchain.cache import SQLiteCache\n",
    "langchain.llm_cache = SQLiteCache(database_path=\"langchain.db\")\n",
    "from langchain.prompts import PromptTemplate\n",
    "from langchain.prompts.chat import (\n",
    "    ChatPromptTemplate,\n",
    "    SystemMessagePromptTemplate,\n",
    "    HumanMessagePromptTemplate,\n",
    ")\n",
    "from langchain.chains import LLMChain\n",
    "\n",
    "from os.path import isfile, join\n",
    "from os import listdir\n",
    "import fitz\n",
    "import docx\n",
    "import pandas as pd\n",
    "\n",
    "import openai\n",
    "import os\n"
   ]
  },
  {
   "cell_type": "markdown",
   "id": "2b85e436",
   "metadata": {},
   "source": [
    "# Create Index"
   ]
  },
  {
   "cell_type": "code",
   "execution_count": 66,
   "id": "75f62160",
   "metadata": {
    "ExecuteTime": {
     "end_time": "2023-07-28T18:34:43.074382Z",
     "start_time": "2023-07-28T18:34:43.068902Z"
    },
    "scrolled": true
   },
   "outputs": [
    {
     "name": "stdout",
     "output_type": "stream",
     "text": [
      "[]\n",
      "['CP_HRM_Solution_Special_Notice_RFI_FINAL.1690396353841.docx', 'Medical Quallity Assurance System RFI Attachment 1 Future Interface List.1690396361267.docx']\n",
      "[]\n"
     ]
    }
   ],
   "source": [
    "basepath = '/Users/rorymclean/notebooks/ccqas/rfi/'\n",
    "\n",
    "pdffiles = [f for f in listdir(basepath) if isfile(join(basepath, f)) and f.lower().endswith('.pdf')]\n",
    "print(pdffiles)\n",
    "docxfiles = [f for f in listdir(basepath) if isfile(join(basepath, f)) and f.lower().endswith('.docx')]\n",
    "print(docxfiles)\n",
    "txtfiles = [f for f in listdir(basepath) if isfile(join(basepath, f)) and f.lower().endswith('.txt')]\n",
    "print(txtfiles)"
   ]
  },
  {
   "cell_type": "code",
   "execution_count": 67,
   "id": "6fee4402",
   "metadata": {
    "ExecuteTime": {
     "end_time": "2023-07-28T18:34:44.030748Z",
     "start_time": "2023-07-28T18:34:43.997050Z"
    },
    "scrolled": true
   },
   "outputs": [
    {
     "name": "stdout",
     "output_type": "stream",
     "text": [
      "Your document contains 16074 characters\n",
      "You have 23 chunks\n"
     ]
    }
   ],
   "source": [
    "mydata_all = ''\n",
    "\n",
    "for z in pdffiles:\n",
    "    fname = join(basepath,z)\n",
    "    doc = fitz.open(fname)  \n",
    "    this_doc = ''\n",
    "    for page in doc:  # iterate the document pages\n",
    "        this_doc = this_doc + page.get_text() + \"\\n\"\n",
    "    mydata_all = mydata_all + this_doc + '\\n'  \n",
    "\n",
    "for z in docxfiles: \n",
    "    fname = join(basepath,z)\n",
    "    doc = docx.Document(fname)\n",
    "    all_paras = doc.paragraphs\n",
    "    this_doc = ''\n",
    "    for para in all_paras:\n",
    "        this_doc = this_doc+ para.text + \"\\n\"\n",
    "    mydata_all = mydata_all + this_doc + '\\n'  \n",
    "    \n",
    "for z in txtfiles:\n",
    "    fname = join(basepath,z)\n",
    "    data_buffer = \"\"\n",
    "    data_str_wrapper = open(fname,\"r\")\n",
    "    data_buffer += data_str_wrapper.read()  \n",
    "    mydata_all = mydata_all + data_buffer + '\\n'     \n",
    "\n",
    "    \n",
    "print(\"Your document contains \"+str(len(mydata_all))+\" characters\")\n",
    "\n",
    "text_splitter = RecursiveCharacterTextSplitter(\n",
    "    chunk_size = 1000,\n",
    "    chunk_overlap  = 0,\n",
    "    length_function = len,\n",
    ")\n",
    "texts = text_splitter.create_documents([mydata_all])\n",
    "\n",
    "print(\"You have \"+str(len(texts))+\" chunks\")"
   ]
  },
  {
   "cell_type": "code",
   "execution_count": 68,
   "id": "4a4d9ff0",
   "metadata": {
    "ExecuteTime": {
     "end_time": "2023-07-28T18:34:45.592205Z",
     "start_time": "2023-07-28T18:34:45.156613Z"
    },
    "scrolled": true
   },
   "outputs": [],
   "source": [
    "db3 = Chroma.from_documents(texts, OpenAIEmbeddings())\n"
   ]
  },
  {
   "cell_type": "markdown",
   "id": "132c2246",
   "metadata": {},
   "source": [
    "# Create Prompts"
   ]
  },
  {
   "cell_type": "code",
   "execution_count": 243,
   "id": "5db50d71",
   "metadata": {
    "ExecuteTime": {
     "end_time": "2023-07-29T02:10:18.602243Z",
     "start_time": "2023-07-29T02:10:18.598774Z"
    },
    "scrolled": true
   },
   "outputs": [],
   "source": [
    "template = \"\"\"\n",
    "You are a helpful assistant that will use the TEXT below to answer the user's question.\n",
    "\n",
    "TEXT:\n",
    "{mytext}\n",
    "\n",
    "\"\"\"\n",
    "system_message_prompt = SystemMessagePromptTemplate.from_template(template)\n",
    "human_template = \"QUESTION: {myquestion}\"\n",
    "human_message_prompt = HumanMessagePromptTemplate.from_template(human_template)\n",
    "\n",
    "chat_prompt = ChatPromptTemplate.from_messages([system_message_prompt, human_message_prompt])\n",
    "\n"
   ]
  },
  {
   "cell_type": "markdown",
   "id": "2a6521cc",
   "metadata": {},
   "source": [
    "# Ask Questions"
   ]
  },
  {
   "cell_type": "code",
   "execution_count": 244,
   "id": "94d36536",
   "metadata": {
    "ExecuteTime": {
     "end_time": "2023-07-29T02:10:23.570929Z",
     "start_time": "2023-07-29T02:10:23.566481Z"
    },
    "scrolled": true
   },
   "outputs": [],
   "source": [
    "def ask_question(myquestion,myrelevancy = .5, myk = 15, mymodel = 'gpt-3.5-turbo', mycache=True):\n",
    "\n",
    "    docs = db3.similarity_search_with_relevance_scores(myquestion, k=myk)\n",
    "\n",
    "    mytext = \"\"\n",
    "    for x,v in docs:\n",
    "        if mytext == \"\":\n",
    "            mytext = str(x) + \"\\n\\n\"\n",
    "            continue\n",
    "        if v > myrelevancy:\n",
    "            mytext = mytext + str(x) + \"\\n\\n\"\n",
    "\n",
    "    # print(mytext)\n",
    "    \n",
    "    chain = LLMChain(\n",
    "        llm=ChatOpenAI(model=mymodel,cache=mycache),\n",
    "        prompt=chat_prompt,\n",
    "    )\n",
    "    \n",
    "    results = chain.run(myquestion=myquestion, mytext=mytext)\n",
    "    \n",
    "    return results"
   ]
  },
  {
   "cell_type": "code",
   "execution_count": 98,
   "id": "72e8c2e5",
   "metadata": {
    "ExecuteTime": {
     "end_time": "2023-07-28T18:44:14.492533Z",
     "start_time": "2023-07-28T18:44:14.489098Z"
    },
    "scrolled": true
   },
   "outputs": [],
   "source": [
    "# df_analysis = pd.DataFrame(columns=['question','chain','response',])"
   ]
  },
  {
   "cell_type": "code",
   "execution_count": 246,
   "id": "535ce4cd",
   "metadata": {
    "ExecuteTime": {
     "end_time": "2023-07-29T02:11:09.741276Z",
     "start_time": "2023-07-29T02:11:08.483443Z"
    }
   },
   "outputs": [
    {
     "name": "stderr",
     "output_type": "stream",
     "text": [
      "Number of requested results 25 is greater than number of elements in index 23, updating n_results = 23\n"
     ]
    },
    {
     "name": "stdout",
     "output_type": "stream",
     "text": [
      "Yes, the document specifies that the responses shall be no longer than 20 pages total.\n"
     ]
    }
   ],
   "source": [
    "myquestion = \"Does the document limit the number of pages in our response?\"\n",
    "\n",
    "results = ask_question(myquestion,myrelevancy=.4,myk=25,mycache=False)\n",
    "print(results)\n"
   ]
  },
  {
   "cell_type": "code",
   "execution_count": 99,
   "id": "21f5d5f8",
   "metadata": {
    "ExecuteTime": {
     "end_time": "2023-07-28T18:44:18.148900Z",
     "start_time": "2023-07-28T18:44:15.514101Z"
    },
    "scrolled": true
   },
   "outputs": [
    {
     "name": "stderr",
     "output_type": "stream",
     "text": [
      "Number of requested results 25 is greater than number of elements in index 23, updating n_results = 23\n"
     ]
    },
    {
     "name": "stdout",
     "output_type": "stream",
     "text": [
      "Title: Military Health System (MHS) Medical Quality Assurance System (MQAS)\n"
     ]
    }
   ],
   "source": [
    "myquestion = \"Guess at the NAME or TITLE of this project\"\n",
    "\n",
    "results = ask_question(myquestion,myrelevancy=.1,myk=25,mycache=False)\n",
    "print(results)\n",
    "df_analysis.loc[len(df_analysis.index)]= {'question': myquestion, 'chain': 'Planner','response': results}"
   ]
  },
  {
   "cell_type": "code",
   "execution_count": 102,
   "id": "23466c84",
   "metadata": {
    "ExecuteTime": {
     "end_time": "2023-07-28T18:46:02.190372Z",
     "start_time": "2023-07-28T18:45:59.589531Z"
    },
    "scrolled": true
   },
   "outputs": [
    {
     "name": "stdout",
     "output_type": "stream",
     "text": [
      "The document mentions the Defense Health Agency (DHA) as the main agency responsible for the management of hospitals and clinics. It also references the National Defense Authorization Act (NDAA) and the Federal Acquisition Regulation (FAR) as regulatory frameworks. Additionally, there are mentions of the Joint Commission (TJC), the Military Health System (MHS), and the Department of Veterans Affairs (VA).\n"
     ]
    }
   ],
   "source": [
    "myquestion = \"Which agencies or departments are listed in this document?\"\n",
    "\n",
    "results = ask_question(myquestion) #,mymodel=\"gpt-4\",myrelevancy=.1,myk=25,mycache=False\n",
    "print(results)\n",
    "df_analysis.loc[len(df_analysis.index)]= {'question': myquestion, 'chain': 'Planner','response': results}"
   ]
  },
  {
   "cell_type": "code",
   "execution_count": 103,
   "id": "75e4d19d",
   "metadata": {
    "ExecuteTime": {
     "end_time": "2023-07-28T18:46:17.863230Z",
     "start_time": "2023-07-28T18:46:15.056795Z"
    },
    "scrolled": true
   },
   "outputs": [
    {
     "name": "stdout",
     "output_type": "stream",
     "text": [
      "The application performs the function of standardizing and centralizing the medical staff management capabilities of credentialing and privileging, as well as incorporating healthcare risk management for the Defense Health Agency (DHA) Military Treatment Facilities (MTFs) and the Services' operational environment. It also includes functions related to clinical quality management, document management, data storage and retrieval, collaboration tools, notifications and alerts, data analysis and reporting, user access control, and release of information.\n"
     ]
    }
   ],
   "source": [
    "myquestion = \"What function does his application perform?\"\n",
    "\n",
    "results = ask_question(myquestion) #,mymodel=\"gpt-4\",myrelevancy=.1,myk=25,mycache=False\n",
    "print(results)\n",
    "df_analysis.loc[len(df_analysis.index)]= {'question': myquestion, 'chain': 'Planner','response': results}"
   ]
  },
  {
   "cell_type": "code",
   "execution_count": 104,
   "id": "5a3a7721",
   "metadata": {
    "ExecuteTime": {
     "end_time": "2023-07-28T18:46:35.476471Z",
     "start_time": "2023-07-28T18:46:31.879307Z"
    },
    "scrolled": true
   },
   "outputs": [
    {
     "name": "stdout",
     "output_type": "stream",
     "text": [
      "The users of this application are not explicitly mentioned in the provided text. However, based on the context, it can be inferred that the users would include organizations within the Defense Health Agency (DHA), such as DHA MTFs (Medical Treatment Facilities), Combatant Commands, Services, Operational Units, VA (Veterans Affairs), Medical Centers, and Clinics. Additionally, the application may be used by providers, beneficiaries, and healthcare staff involved in credentialing, privileging, healthcare risk management, and clinical quality management processes.\n"
     ]
    }
   ],
   "source": [
    "myquestion = \"Who are the users of this application?\"\n",
    "\n",
    "results = ask_question(myquestion) #,mymodel=\"gpt-4\",myrelevancy=.1,myk=25,mycache=False\n",
    "print(results)\n",
    "df_analysis.loc[len(df_analysis.index)]= {'question': myquestion, 'chain': 'Planner','response': results}"
   ]
  },
  {
   "cell_type": "code",
   "execution_count": 105,
   "id": "4965fa10",
   "metadata": {
    "ExecuteTime": {
     "end_time": "2023-07-28T18:46:58.716302Z",
     "start_time": "2023-07-28T18:46:51.206146Z"
    },
    "scrolled": true
   },
   "outputs": [
    {
     "name": "stdout",
     "output_type": "stream",
     "text": [
      "The document references several technologies and their usage in the product. Some of the technologies mentioned include:\n",
      "\n",
      "1. Application Programming Interfaces (API) Platform: This technology is used to provide seamless connection and interoperability with Solution Delivery Division (SDD) APIs and internal/external data exchanges.\n",
      "\n",
      "2. Content management technology: This technology is used to automate the classification, storage, and retrieval of a large volume of C&P and HRM documentation.\n",
      "\n",
      "3. Collaboration tools: These tools are used to facilitate collaboration among users, including notifications/alerts and access log files for information sharing.\n",
      "\n",
      "4. Cloud hosted software: The product requires a high availability, Government FedRAMP+ Impact Level 4 approved Cloud hosted software for operational availability and cybersecurity compliance.\n",
      "\n",
      "5. Credentialing, Privileging, and Healthcare Risk Management Business System Solution: The product aims to provide a scalable and flexible cloud-based solution for credentialing, privileging, and healthcare risk management, with an emphasis on document management, data migration, and cybersecurity accreditation.\n",
      "\n",
      "6. AI/Data Analytics: The product seeks value-driven AI/Data Analytics capabilities for primary capabilities, service management, and systems/network performance, using tools like Splunk, PowerBI, Tableau, and ChatGPT.\n",
      "\n",
      "These technologies are mentioned in the document as requirements or desired capabilities for the proposed solution.\n"
     ]
    }
   ],
   "source": [
    "myquestion = \"What technology is referenced in the document and how are they used in this product?\"\n",
    "\n",
    "results = ask_question(myquestion) #,mymodel=\"gpt-4\",myrelevancy=.1,myk=25,mycache=False\n",
    "print(results)\n",
    "df_analysis.loc[len(df_analysis.index)]= {'question': myquestion, 'chain': 'Planner','response': results}"
   ]
  },
  {
   "cell_type": "code",
   "execution_count": 106,
   "id": "800c30f4",
   "metadata": {
    "ExecuteTime": {
     "end_time": "2023-07-28T18:47:08.750003Z",
     "start_time": "2023-07-28T18:47:06.468136Z"
    },
    "scrolled": true
   },
   "outputs": [
    {
     "name": "stdout",
     "output_type": "stream",
     "text": [
      "Yes, the document does reference cloud computing. It states that industry partners should consider the capability to provide a Government FedRAMP+ Impact Level 4 approved Cloud hosted software with evidence of cybersecurity compliance or the ability to obtain the DHA Authority to Operate. However, it does not explicitly recommend using cloud computing.\n"
     ]
    }
   ],
   "source": [
    "myquestion = \"Does the document reference cloud computing? Does the document recommend using cloud computing?\"\n",
    "\n",
    "results = ask_question(myquestion) #,mymodel=\"gpt-4\",myrelevancy=.1,myk=25,mycache=False\n",
    "print(results)\n",
    "df_analysis.loc[len(df_analysis.index)]= {'question': myquestion, 'chain': 'Planner','response': results}"
   ]
  },
  {
   "cell_type": "code",
   "execution_count": 107,
   "id": "0178f9e9",
   "metadata": {
    "ExecuteTime": {
     "end_time": "2023-07-28T18:47:21.243415Z",
     "start_time": "2023-07-28T18:47:17.738863Z"
    },
    "scrolled": true
   },
   "outputs": [
    {
     "name": "stdout",
     "output_type": "stream",
     "text": [
      "Yes, the document does reference COTS (commercial off the shelf) software. It mentions that innovative approaches, including COTS, development efforts, and/or hybrid solutions, can be used to replace the current IT system, Centralized Credentials Quality and Assurance System (CCQAS). It encourages partnering to identify and leverage existing MHS solutions, such as Defense Medical Human Resource System-internet (DMHRSi), Joint Patient Safety Reporting (JPSR), and MHS GENESIS, to provide optimization, cost savings, and modernization for DHA Clinical Quality Management.\n"
     ]
    }
   ],
   "source": [
    "myquestion = \"Does the document reference COTS (commercial off the shelf) software? Does the document recommend using COTS software?\"\n",
    "\n",
    "results = ask_question(myquestion) #,mymodel=\"gpt-4\",myrelevancy=.1,myk=25,mycache=False\n",
    "print(results)\n",
    "df_analysis.loc[len(df_analysis.index)]= {'question': myquestion, 'chain': 'Planner','response': results}"
   ]
  },
  {
   "cell_type": "code",
   "execution_count": 108,
   "id": "75356208",
   "metadata": {
    "ExecuteTime": {
     "end_time": "2023-07-28T18:47:34.348665Z",
     "start_time": "2023-07-28T18:47:32.639746Z"
    },
    "scrolled": true
   },
   "outputs": [
    {
     "name": "stdout",
     "output_type": "stream",
     "text": [
      "No, the document does not describe the current system architecture. It provides information about the desired capabilities and functionalities for a new system or suite of systems that will replace the current system.\n"
     ]
    }
   ],
   "source": [
    "myquestion = \"Does the document describe the current system architecture?\"\n",
    "\n",
    "results = ask_question(myquestion) #,mymodel=\"gpt-4\",myrelevancy=.1,myk=25,mycache=False\n",
    "print(results)\n",
    "df_analysis.loc[len(df_analysis.index)]= {'question': myquestion, 'chain': 'Planner','response': results}"
   ]
  },
  {
   "cell_type": "code",
   "execution_count": 109,
   "id": "00e51ea5",
   "metadata": {
    "ExecuteTime": {
     "end_time": "2023-07-28T18:47:44.692601Z",
     "start_time": "2023-07-28T18:47:42.697285Z"
    },
    "scrolled": true
   },
   "outputs": [
    {
     "name": "stdout",
     "output_type": "stream",
     "text": [
      "No, the document does not describe future changes they would like to see in new releases. It primarily focuses on the capabilities and functionality sought by the Defense Health Agency (DHA) for the Medical Quality Assurance System (MQAS) and the requirements for potential vendors.\n"
     ]
    }
   ],
   "source": [
    "myquestion = \"Does the document describe future changes they would like to see in new releases?\"\n",
    "\n",
    "results = ask_question(myquestion) #,mymodel=\"gpt-4\",myrelevancy=.1,myk=25,mycache=False\n",
    "print(results)\n",
    "df_analysis.loc[len(df_analysis.index)]= {'question': myquestion, 'chain': 'Planner','response': results}"
   ]
  },
  {
   "cell_type": "code",
   "execution_count": 110,
   "id": "880e9e3d",
   "metadata": {
    "ExecuteTime": {
     "end_time": "2023-07-28T18:48:08.345402Z",
     "start_time": "2023-07-28T18:47:55.884899Z"
    },
    "scrolled": true
   },
   "outputs": [
    {
     "name": "stdout",
     "output_type": "stream",
     "text": [
      "Based on the provided text, here is a suggested document outline for your response:\n",
      "\n",
      "I. Introduction\n",
      "   A. Purpose of the Response\n",
      "   B. Overview of your Company/Team/Solution Ownership\n",
      "\n",
      "II. Contract and Teaming Strategy\n",
      "   A. Description of Contract Strategy\n",
      "   B. Teaming Strategy and Partnerships\n",
      "   C. Business Type (NAICS, Hub Zone, Small/Large)\n",
      "   D. Facility for Cleared Activities\n",
      "\n",
      "III. Point of Contact Information\n",
      "   A. Contact Information for POCs\n",
      "   B. Phone, Address, Fax, Mail\n",
      "\n",
      "IV. Resource Staffing Support\n",
      "   A. Staffing Approach for Continuous Improvement Delivery\n",
      "   B. Agile Sprint Methodologies\n",
      "\n",
      "V. Responses to Cardinal Questions\n",
      "   A. Detailed Responses to the Three Cardinal Questions\n",
      "   B. Explanation of Solutions and Capabilities\n",
      "\n",
      "VI. Models and Diagrams\n",
      "   A. Physical and Logical Models\n",
      "   B. Workflows and Solution Diagrams\n",
      "   C. Systems Description Sections (as needed)\n",
      "\n",
      "VII. Proactive Monitoring and Support Costs\n",
      "   A. Proactive Monitoring Approach\n",
      "   B. After-Hours and Tier Support Costs Models\n",
      "\n",
      "VIII. Technical and Functional Capabilities\n",
      "   A. Realistic Technical Capabilities\n",
      "   B. Functional Capabilities Description\n",
      "\n",
      "IX. Examples of Projects\n",
      "   A. One to Three Examples of Similar Projects\n",
      "\n",
      "X. Capability and Functionality Sought by DHA\n",
      "   A. Minimum Outcomes Listed\n",
      "   B. Technical Architecture Diagrams\n",
      "   C. Capabilities for Privileged and Non-privileged Provider Credentialing\n",
      "   D. Capabilities for Provider Privileging Decision Support\n",
      "\n",
      "XI. Cloud-Based Solution and Cybersecurity Accreditation\n",
      "   A. Description of Scalable and Flexible Cloud-Based Solution\n",
      "   B. Innovative Solution for Document Management and Data Migration\n",
      "   C. Cybersecurity Accreditation and Certification\n",
      "\n",
      "XII. Estimate and Schedule\n",
      "   A. Rough Order of Magnitude for Required Resources\n",
      "   B. Notional Schedule and Implementation Plan\n",
      "\n",
      "XIII. Conclusion\n",
      "   A. Acknowledgement of Next Steps and Appreciation\n",
      "   B. Assurance of Complete and Detailed Response\n",
      "\n",
      "Note: This outline is a suggestion and can be customized to fit your specific response and company's capabilities.\n"
     ]
    }
   ],
   "source": [
    "myquestion = \"Assuming we provide a written response to this document, provide a document outline for our response?\"\n",
    "\n",
    "results = ask_question(myquestion) #,mymodel=\"gpt-4\",myrelevancy=.1,myk=25,mycache=False\n",
    "print(results)\n",
    "df_analysis.loc[len(df_analysis.index)]= {'question': myquestion, 'chain': 'Planner','response': results}"
   ]
  },
  {
   "cell_type": "code",
   "execution_count": 112,
   "id": "84421dac",
   "metadata": {
    "ExecuteTime": {
     "end_time": "2023-07-28T18:50:00.694337Z",
     "start_time": "2023-07-28T18:50:00.684723Z"
    },
    "scrolled": true
   },
   "outputs": [],
   "source": [
    "df_analysis.to_csv(basepath+'ccqas.csv', index=False)"
   ]
  },
  {
   "cell_type": "markdown",
   "id": "a0885df7",
   "metadata": {},
   "source": [
    "## Additional Questions for the Planner"
   ]
  },
  {
   "cell_type": "code",
   "execution_count": 115,
   "id": "5324e3bb",
   "metadata": {
    "ExecuteTime": {
     "end_time": "2023-07-28T18:54:06.612401Z",
     "start_time": "2023-07-28T18:54:06.455505Z"
    },
    "scrolled": true
   },
   "outputs": [
    {
     "name": "stdout",
     "output_type": "stream",
     "text": [
      "The DHA (Defense Health Agency) is seeking capabilities and functionality from industry partners that meet certain minimum outcomes. These outcomes represent the desired results or goals that the DHA expects the proposed solutions to achieve. The specific outcomes may vary depending on the area or domain being addressed. Here are some examples of the minimum outcomes mentioned in the provided text:\n",
      "\n",
      "1. High Availability: The DHA expects a minimum operational availability of 98.5% for the proposed solution. This means that the system should be highly reliable and accessible to users.\n",
      "\n",
      "2. Government FedRAMP+ Impact Level 4 approval: The DHA requires the proposed cloud-hosted software to be approved at the FedRAMP+ Impact Level 4. This certification ensures that the solution meets the necessary cybersecurity requirements.\n",
      "\n",
      "3. Evidence of Cybersecurity Compliance: The industry partners should provide evidence of their cybersecurity compliance or demonstrate their ability to obtain the DHA Authority to Operate (ATO). This ensures that the solution is secure and complies with cybersecurity standards.\n",
      "\n",
      "4. Privileged and Non-privileged Provider Credentialing: The proposed solution should have the capability to collect and manage data related to provider credentialing, including both privileged and non-privileged credentials. It should also support decision support process workflows and provide reporting and dashboard capabilities.\n",
      "\n",
      "5. Provider Privileging Decision Support: The solution should have the capability to support the provider privileging decision support process. This includes collecting relevant data and providing reporting and dashboard capabilities for the data collected during the privileging process.\n",
      "\n",
      "6. Scalable and Flexible Cloud-based Solution: The DHA is looking for a scalable and flexible cloud-based solution for Credentialing, Privileging, and Healthcare Risk Management. The solution should be able to accommodate future growth and should provide innovative and cost-efficient document management and data migration capabilities.\n",
      "\n",
      "These are just a few examples of the minimum outcomes expected by the DHA. The specific outcomes may vary based on the requirements and domain of the solution being proposed.\n"
     ]
    }
   ],
   "source": [
    "myquestion = \"In terms of capabilities and functionality sought by DHA, but do they mean by 'Minimum Outcomes' and what specific outcomes are they expecting? Provide a detailed answer.\"\n",
    "\n",
    "results = ask_question(myquestion) #,mymodel=\"gpt-4\",myrelevancy=.1,myk=25,mycache=False\n",
    "print(results)\n",
    "df_analysis.loc[len(df_analysis.index)]= {'question': myquestion, 'chain': 'Planner','response': results}"
   ]
  },
  {
   "cell_type": "code",
   "execution_count": 117,
   "id": "44b7c674",
   "metadata": {
    "ExecuteTime": {
     "end_time": "2023-07-28T18:55:48.067339Z",
     "start_time": "2023-07-28T18:55:47.892486Z"
    },
    "scrolled": true
   },
   "outputs": [
    {
     "name": "stdout",
     "output_type": "stream",
     "text": [
      "The capabilities for privileged and non-privileged provider credentialing include the ability to collect and manage data related to provider credentials, as well as the ability to make informed decisions and provide support throughout the credentialing process. These capabilities are essential for ensuring that providers meet the necessary qualifications and standards to deliver quality healthcare.\n",
      "\n",
      "1. Data Collection and Management: The system should be capable of collecting and storing relevant data regarding provider credentials, such as education, training, certifications, licenses, and work experience. It should also be able to capture and manage supporting documentation, such as transcripts, certificates, and letters of recommendation.\n",
      "\n",
      "2. Decision Support Process Workflows: The system should provide customizable workflows that guide the credentialing process. These workflows should include automated checks and validation steps to ensure that all necessary information is collected, and that the provider meets the required criteria. The system should also support the ability to track the progress of each credentialing application and provide notifications or alerts for any missing or incomplete information.\n",
      "\n",
      "3. Reporting and Dashboard Capability: The system should have robust reporting and dashboard features that allow for the generation of comprehensive reports on the status of credentialing applications, as well as other relevant metrics and analytics. This capability enables stakeholders to monitor and evaluate the efficiency and effectiveness of the credentialing process.\n",
      "\n",
      "4. Privileging Process Workflow: In addition to credentialing, the system should also support the privileging process. This involves evaluating and granting specific privileges to providers based on their qualifications and expertise. The system should provide workflows and decision support tools for evaluating privilege requests, monitoring the competency of providers, and ensuring compliance with regulatory standards.\n",
      "\n",
      "5. User Access Control and Authentication: To ensure the security and confidentiality of sensitive provider credentialing data, the system should enforce user access control measures. This includes implementing multi-factor authentication methods, such as Public Key Infrastructure (PKI) controls, Common Access Card (CAC), Personal Identify Verification (PIV), username, and password. These measures help to prevent unauthorized access and protect the integrity of provider credentials.\n",
      "\n",
      "6. Collaboration Tools and Notifications: The system should provide collaboration tools, such as messaging and document sharing capabilities, to facilitate communication and collaboration among stakeholders involved in the credentialing process. It should also have notification and alert features to keep users informed of important updates, deadlines, and changes in the status of credentialing applications.\n",
      "\n",
      "7. Document Management and Storage: The system should have content management technology that allows for the efficient classification, storage, and retrieval of a large volume of credentialing-related documentation. This includes the ability to organize documents in a structured manner, perform keyword searches, and track document versions and revisions.\n",
      "\n",
      "8. Integration and Interoperability: The credentialing system should be capable of seamless integration with other systems and data sources within the healthcare organization, such as electronic health record systems, HR systems, and other relevant databases. This ensures the availability of accurate and up-to-date information for the credentialing process.\n",
      "\n",
      "Overall, the capabilities for privileged and non-privileged provider credentialing aim to streamline and automate the process, improve data accuracy and accessibility, enhance decision-making, and ensure compliance with regulatory requirements. These capabilities contribute to the overall efficiency and effectiveness of the healthcare organization's credentialing and privileging activities.\n"
     ]
    }
   ],
   "source": [
    "myquestion = \"Describe in detail the capabilities for privileged and Non-privileged Provider Credentialing\"\n",
    "\n",
    "results = ask_question(myquestion) #,mymodel=\"gpt-4\",myrelevancy=.1,myk=25,mycache=False\n",
    "print(results)\n",
    "df_analysis.loc[len(df_analysis.index)]= {'question': myquestion, 'chain': 'Planner','response': results}"
   ]
  },
  {
   "cell_type": "code",
   "execution_count": 119,
   "id": "b81f05d2",
   "metadata": {
    "ExecuteTime": {
     "end_time": "2023-07-28T18:57:20.424268Z",
     "start_time": "2023-07-28T18:57:20.142851Z"
    },
    "scrolled": true
   },
   "outputs": [
    {
     "name": "stdout",
     "output_type": "stream",
     "text": [
      "The capabilities required for Provider Privileging Decision Support include the following:\n",
      "\n",
      "1. Privileged and Non-privileged Provider Credentialing Data Collection and Record Management: The system should be capable of collecting and managing data related to both privileged and non-privileged providers. This includes capturing provider credentials, qualifications, training, certifications, licensure, and other relevant information.\n",
      "\n",
      "2. Decision Support Process Workflows: The system should provide automated workflows that guide the decision-making process for provider privileging. This includes step-by-step processes for reviewing and evaluating provider qualifications, conducting background checks, verifying references, and assessing competency.\n",
      "\n",
      "3. Reporting and Dashboard Capability: The system should have robust reporting and dashboard features that allow users to generate comprehensive reports and visualize data related to provider privileging. This includes tracking the status of privileging requests, monitoring compliance with privileging requirements, and identifying any gaps or discrepancies in the privileging process.\n",
      "\n",
      "4. Integration with Other Systems: The system should be able to integrate with other healthcare systems and databases to access relevant information for provider privileging. This may include integration with electronic health records, credentialing verification organizations, licensing boards, and other relevant external systems.\n",
      "\n",
      "5. Compliance with Regulatory Standards: The system should be designed to comply with regulatory standards and guidelines, such as those set by The Joint Commission (TJC) and other accrediting bodies. This includes ensuring that the privileging process follows best practices and meets the requirements for evaluating provider competence and ensuring patient safety.\n",
      "\n",
      "6. Audit and Monitoring Capabilities: The system should have built-in audit and monitoring capabilities to track and record all activities related to provider privileging. This includes capturing user actions, changes to provider records, and any modifications made to privileging decisions. Audit logs should be easily accessible for review and analysis.\n",
      "\n",
      "7. Data Security and Privacy: The system should have robust security measures in place to protect sensitive provider information and ensure data privacy. This includes encryption of data, access controls, user authentication, and regular security assessments to identify and mitigate any vulnerabilities.\n",
      "\n",
      "8. Scalability and Flexibility: The system should be scalable and able to handle a large volume of privileging requests and provider data. It should also be flexible enough to accommodate changes in privileging requirements, regulatory standards, and organizational policies.\n",
      "\n",
      "9. User-Friendly Interface: The system should have an intuitive and user-friendly interface that allows users to navigate and interact with the system easily. This includes providing clear instructions, guidance, and tooltips to assist users in completing privileging tasks efficiently.\n",
      "\n",
      "10. Training and Support: The system should provide comprehensive training materials and resources to help users understand and navigate the privileging process. Additionally, there should be a dedicated support team available to assist users with any technical issues or questions related to the system.\n",
      "\n",
      "Overall, the Provider Privileging Decision Support capabilities should enable healthcare organizations to effectively manage and evaluate the competence of providers seeking privileges, ensure compliance with regulatory standards, and prioritize patient safety throughout the privileging process.\n"
     ]
    }
   ],
   "source": [
    "myquestion = \"Describe in detail the Capabilities required for Provider Privileging Decision Support\"\n",
    "\n",
    "results = ask_question(myquestion) #,mymodel=\"gpt-4\",myrelevancy=.1,myk=25,mycache=False\n",
    "print(results)\n",
    "df_analysis.loc[len(df_analysis.index)]= {'question': myquestion, 'chain': 'Planner','response': results}"
   ]
  },
  {
   "cell_type": "code",
   "execution_count": 121,
   "id": "cf60f878",
   "metadata": {
    "ExecuteTime": {
     "end_time": "2023-07-28T18:59:44.962671Z",
     "start_time": "2023-07-28T18:59:44.793670Z"
    },
    "scrolled": true
   },
   "outputs": [
    {
     "name": "stdout",
     "output_type": "stream",
     "text": [
      "This document does not explicitly define 'Realistic Technical Capabilities'. However, it provides guidance for industry partners to consider each of the minimum outcomes listed when proposing a response. If any of the outcomes seem unrealistic, the document encourages industry partners to be candid and transparent in expressing their concerns. The document also mentions that technical architecture diagrams are preferred when possible. It suggests that industry partners should provide their capabilities for delivering a scalable and flexible cloud-based solution, obtaining cybersecurity accreditation and certification, and providing infrastructure, hardware, and software descriptions. Overall, the document emphasizes the need for innovative and cost-efficient solutions that align with the desired end-state and achievable objectives.\n"
     ]
    }
   ],
   "source": [
    "myquestion = \"In detail describe how does this document define 'Realistic Technical Capabilities'.\"\n",
    "\n",
    "results = ask_question(myquestion) #,mymodel=\"gpt-4\",myrelevancy=.1,myk=25,mycache=False\n",
    "print(results)\n",
    "df_analysis.loc[len(df_analysis.index)]= {'question': myquestion, 'chain': 'Planner','response': results}"
   ]
  },
  {
   "cell_type": "code",
   "execution_count": 127,
   "id": "ceb88a73",
   "metadata": {
    "ExecuteTime": {
     "end_time": "2023-07-28T19:04:33.064113Z",
     "start_time": "2023-07-28T19:04:32.891930Z"
    },
    "scrolled": true
   },
   "outputs": [
    {
     "name": "stdout",
     "output_type": "stream",
     "text": [
      "This document defines the required function capabilities by listing specific outcomes and functionalities that the integrated HRM and C&P system(s) should provide. These capabilities are outlined in various sections of the document. \n",
      "\n",
      "In the first section, it states that the system should have the capability to provide privileged and non-privileged provider credentialing data collection and record management. It should also support decision support process workflows and have reporting/dashboard capability on all data collected in the privileging process. \n",
      "\n",
      "The document also mentions the need for seamless connection to the Solution Delivery Division (SDD) Application Programming Interfaces (API) Platform or internal and external data exchanges. It emphasizes the importance of interoperability with MHS Systems and the need for content management technology to automate the classification, storage, and retrieval of a large volume of C&P and HRM documentation. Collaboration tools, notifications/alerts, and information access log files are also required capabilities.\n",
      "\n",
      "Furthermore, the document highlights the need for resource staffing support that accounts for continuous improvement delivery using Agile Sprint methodologies. It also mentions the importance of physical and logical models, workflows, and solution diagrams, as well as systems description sections. The document asks for resource staffing life cycle by role and includes proactive monitoring, after-hours, and tier support costs models.\n",
      "\n",
      "Additionally, the document specifies the capabilities required for recording, monitoring, and evaluating the privilege-specific competence of providers. It mentions the need for decision support workflow processes for clinical quality review of adverse events and adverse actions, as well as the release of information process workflow with reporting/dashboard capability. The system should also support impaired healthcare provider decision support workflow processes.\n",
      "\n",
      "The document further outlines capabilities related to user account registration with multi-factor authentication, the ability to accommodate hierarchical relationships within and across complex organizations, and the provision of value-driven AI/Data Analytics information. It also emphasizes the need for high availability, Government FedRAMP+ Impact Level 4 approved Cloud hosted software with evidence of cybersecurity compliance.\n",
      "\n",
      "In summary, this document defines the required function capabilities by specifying the outcomes and functionalities that the integrated HRM and C&P system(s) should provide, including data collection and management, decision support workflows, reporting and dashboard capabilities, interoperability, document management, collaboration tools, and cybersecurity compliance, among others.\n"
     ]
    }
   ],
   "source": [
    "myquestion = \"In detail describe how does this document defines required Function Capabilities.\"\n",
    "\n",
    "results = ask_question(myquestion) #,mymodel=\"gpt-4\",myrelevancy=.1,myk=25,mycache=False\n",
    "print(results)\n",
    "df_analysis.loc[len(df_analysis.index)]= {'question': myquestion, 'chain': 'Planner','response': results}"
   ]
  },
  {
   "cell_type": "code",
   "execution_count": 245,
   "id": "234ef71d",
   "metadata": {
    "ExecuteTime": {
     "end_time": "2023-07-29T02:11:00.078120Z",
     "start_time": "2023-07-29T02:11:00.072436Z"
    },
    "scrolled": true
   },
   "outputs": [],
   "source": [
    "df_analysis.to_csv(basepath+'ccqas.csv', index=False)"
   ]
  },
  {
   "cell_type": "code",
   "execution_count": 129,
   "id": "6fe2d120",
   "metadata": {
    "ExecuteTime": {
     "end_time": "2023-07-28T19:04:38.142207Z",
     "start_time": "2023-07-28T19:04:38.040569Z"
    },
    "scrolled": true
   },
   "outputs": [
    {
     "data": {
      "text/markdown": [
       "<B>Question:</B>"
      ],
      "text/plain": [
       "<IPython.core.display.Markdown object>"
      ]
     },
     "metadata": {},
     "output_type": "display_data"
    },
    {
     "data": {
      "text/markdown": [
       "Guess at the NAME or TITLE of this project"
      ],
      "text/plain": [
       "<IPython.core.display.Markdown object>"
      ]
     },
     "metadata": {},
     "output_type": "display_data"
    },
    {
     "data": {
      "text/markdown": [
       "<B>Response:</B>"
      ],
      "text/plain": [
       "<IPython.core.display.Markdown object>"
      ]
     },
     "metadata": {},
     "output_type": "display_data"
    },
    {
     "data": {
      "text/markdown": [
       "Title: Military Health System (MHS) Medical Quality Assurance System (MQAS)"
      ],
      "text/plain": [
       "<IPython.core.display.Markdown object>"
      ]
     },
     "metadata": {},
     "output_type": "display_data"
    },
    {
     "data": {
      "text/markdown": [
       "---"
      ],
      "text/plain": [
       "<IPython.core.display.Markdown object>"
      ]
     },
     "metadata": {},
     "output_type": "display_data"
    },
    {
     "data": {
      "text/markdown": [
       "<B>Question:</B>"
      ],
      "text/plain": [
       "<IPython.core.display.Markdown object>"
      ]
     },
     "metadata": {},
     "output_type": "display_data"
    },
    {
     "data": {
      "text/markdown": [
       "Which agencies or departments are listed in this document?"
      ],
      "text/plain": [
       "<IPython.core.display.Markdown object>"
      ]
     },
     "metadata": {},
     "output_type": "display_data"
    },
    {
     "data": {
      "text/markdown": [
       "<B>Response:</B>"
      ],
      "text/plain": [
       "<IPython.core.display.Markdown object>"
      ]
     },
     "metadata": {},
     "output_type": "display_data"
    },
    {
     "data": {
      "text/markdown": [
       "The document mentions the Defense Health Agency (DHA) as the main agency responsible for the management of hospitals and clinics. It also references the National Defense Authorization Act (NDAA) and the Federal Acquisition Regulation (FAR) as regulatory frameworks. Additionally, there are mentions of the Joint Commission (TJC), the Military Health System (MHS), and the Department of Veterans Affairs (VA)."
      ],
      "text/plain": [
       "<IPython.core.display.Markdown object>"
      ]
     },
     "metadata": {},
     "output_type": "display_data"
    },
    {
     "data": {
      "text/markdown": [
       "---"
      ],
      "text/plain": [
       "<IPython.core.display.Markdown object>"
      ]
     },
     "metadata": {},
     "output_type": "display_data"
    },
    {
     "data": {
      "text/markdown": [
       "<B>Question:</B>"
      ],
      "text/plain": [
       "<IPython.core.display.Markdown object>"
      ]
     },
     "metadata": {},
     "output_type": "display_data"
    },
    {
     "data": {
      "text/markdown": [
       "What function does his application perform?"
      ],
      "text/plain": [
       "<IPython.core.display.Markdown object>"
      ]
     },
     "metadata": {},
     "output_type": "display_data"
    },
    {
     "data": {
      "text/markdown": [
       "<B>Response:</B>"
      ],
      "text/plain": [
       "<IPython.core.display.Markdown object>"
      ]
     },
     "metadata": {},
     "output_type": "display_data"
    },
    {
     "data": {
      "text/markdown": [
       "The application performs the function of standardizing and centralizing the medical staff management capabilities of credentialing and privileging, as well as incorporating healthcare risk management for the Defense Health Agency (DHA) Military Treatment Facilities (MTFs) and the Services' operational environment. It also includes functions related to clinical quality management, document management, data storage and retrieval, collaboration tools, notifications and alerts, data analysis and reporting, user access control, and release of information."
      ],
      "text/plain": [
       "<IPython.core.display.Markdown object>"
      ]
     },
     "metadata": {},
     "output_type": "display_data"
    },
    {
     "data": {
      "text/markdown": [
       "---"
      ],
      "text/plain": [
       "<IPython.core.display.Markdown object>"
      ]
     },
     "metadata": {},
     "output_type": "display_data"
    },
    {
     "data": {
      "text/markdown": [
       "<B>Question:</B>"
      ],
      "text/plain": [
       "<IPython.core.display.Markdown object>"
      ]
     },
     "metadata": {},
     "output_type": "display_data"
    },
    {
     "data": {
      "text/markdown": [
       "Who are the users of this application?"
      ],
      "text/plain": [
       "<IPython.core.display.Markdown object>"
      ]
     },
     "metadata": {},
     "output_type": "display_data"
    },
    {
     "data": {
      "text/markdown": [
       "<B>Response:</B>"
      ],
      "text/plain": [
       "<IPython.core.display.Markdown object>"
      ]
     },
     "metadata": {},
     "output_type": "display_data"
    },
    {
     "data": {
      "text/markdown": [
       "The users of this application are not explicitly mentioned in the provided text. However, based on the context, it can be inferred that the users would include organizations within the Defense Health Agency (DHA), such as DHA MTFs (Medical Treatment Facilities), Combatant Commands, Services, Operational Units, VA (Veterans Affairs), Medical Centers, and Clinics. Additionally, the application may be used by providers, beneficiaries, and healthcare staff involved in credentialing, privileging, healthcare risk management, and clinical quality management processes."
      ],
      "text/plain": [
       "<IPython.core.display.Markdown object>"
      ]
     },
     "metadata": {},
     "output_type": "display_data"
    },
    {
     "data": {
      "text/markdown": [
       "---"
      ],
      "text/plain": [
       "<IPython.core.display.Markdown object>"
      ]
     },
     "metadata": {},
     "output_type": "display_data"
    },
    {
     "data": {
      "text/markdown": [
       "<B>Question:</B>"
      ],
      "text/plain": [
       "<IPython.core.display.Markdown object>"
      ]
     },
     "metadata": {},
     "output_type": "display_data"
    },
    {
     "data": {
      "text/markdown": [
       "What technology is referenced in the document and how are they used in this product?"
      ],
      "text/plain": [
       "<IPython.core.display.Markdown object>"
      ]
     },
     "metadata": {},
     "output_type": "display_data"
    },
    {
     "data": {
      "text/markdown": [
       "<B>Response:</B>"
      ],
      "text/plain": [
       "<IPython.core.display.Markdown object>"
      ]
     },
     "metadata": {},
     "output_type": "display_data"
    },
    {
     "data": {
      "text/markdown": [
       "The document references several technologies and their usage in the product. Some of the technologies mentioned include:\n",
       "\n",
       "1. Application Programming Interfaces (API) Platform: This technology is used to provide seamless connection and interoperability with Solution Delivery Division (SDD) APIs and internal/external data exchanges.\n",
       "\n",
       "2. Content management technology: This technology is used to automate the classification, storage, and retrieval of a large volume of C&P and HRM documentation.\n",
       "\n",
       "3. Collaboration tools: These tools are used to facilitate collaboration among users, including notifications/alerts and access log files for information sharing.\n",
       "\n",
       "4. Cloud hosted software: The product requires a high availability, Government FedRAMP+ Impact Level 4 approved Cloud hosted software for operational availability and cybersecurity compliance.\n",
       "\n",
       "5. Credentialing, Privileging, and Healthcare Risk Management Business System Solution: The product aims to provide a scalable and flexible cloud-based solution for credentialing, privileging, and healthcare risk management, with an emphasis on document management, data migration, and cybersecurity accreditation.\n",
       "\n",
       "6. AI/Data Analytics: The product seeks value-driven AI/Data Analytics capabilities for primary capabilities, service management, and systems/network performance, using tools like Splunk, PowerBI, Tableau, and ChatGPT.\n",
       "\n",
       "These technologies are mentioned in the document as requirements or desired capabilities for the proposed solution."
      ],
      "text/plain": [
       "<IPython.core.display.Markdown object>"
      ]
     },
     "metadata": {},
     "output_type": "display_data"
    },
    {
     "data": {
      "text/markdown": [
       "---"
      ],
      "text/plain": [
       "<IPython.core.display.Markdown object>"
      ]
     },
     "metadata": {},
     "output_type": "display_data"
    },
    {
     "data": {
      "text/markdown": [
       "<B>Question:</B>"
      ],
      "text/plain": [
       "<IPython.core.display.Markdown object>"
      ]
     },
     "metadata": {},
     "output_type": "display_data"
    },
    {
     "data": {
      "text/markdown": [
       "Does the document reference cloud computing? Does the document recommend using cloud computing?"
      ],
      "text/plain": [
       "<IPython.core.display.Markdown object>"
      ]
     },
     "metadata": {},
     "output_type": "display_data"
    },
    {
     "data": {
      "text/markdown": [
       "<B>Response:</B>"
      ],
      "text/plain": [
       "<IPython.core.display.Markdown object>"
      ]
     },
     "metadata": {},
     "output_type": "display_data"
    },
    {
     "data": {
      "text/markdown": [
       "Yes, the document does reference cloud computing. It states that industry partners should consider the capability to provide a Government FedRAMP+ Impact Level 4 approved Cloud hosted software with evidence of cybersecurity compliance or the ability to obtain the DHA Authority to Operate. However, it does not explicitly recommend using cloud computing."
      ],
      "text/plain": [
       "<IPython.core.display.Markdown object>"
      ]
     },
     "metadata": {},
     "output_type": "display_data"
    },
    {
     "data": {
      "text/markdown": [
       "---"
      ],
      "text/plain": [
       "<IPython.core.display.Markdown object>"
      ]
     },
     "metadata": {},
     "output_type": "display_data"
    },
    {
     "data": {
      "text/markdown": [
       "<B>Question:</B>"
      ],
      "text/plain": [
       "<IPython.core.display.Markdown object>"
      ]
     },
     "metadata": {},
     "output_type": "display_data"
    },
    {
     "data": {
      "text/markdown": [
       "Does the document reference COTS (commercial off the shelf) software? Does the document recommend using COTS software?"
      ],
      "text/plain": [
       "<IPython.core.display.Markdown object>"
      ]
     },
     "metadata": {},
     "output_type": "display_data"
    },
    {
     "data": {
      "text/markdown": [
       "<B>Response:</B>"
      ],
      "text/plain": [
       "<IPython.core.display.Markdown object>"
      ]
     },
     "metadata": {},
     "output_type": "display_data"
    },
    {
     "data": {
      "text/markdown": [
       "Yes, the document does reference COTS (commercial off the shelf) software. It mentions that innovative approaches, including COTS, development efforts, and/or hybrid solutions, can be used to replace the current IT system, Centralized Credentials Quality and Assurance System (CCQAS). It encourages partnering to identify and leverage existing MHS solutions, such as Defense Medical Human Resource System-internet (DMHRSi), Joint Patient Safety Reporting (JPSR), and MHS GENESIS, to provide optimization, cost savings, and modernization for DHA Clinical Quality Management."
      ],
      "text/plain": [
       "<IPython.core.display.Markdown object>"
      ]
     },
     "metadata": {},
     "output_type": "display_data"
    },
    {
     "data": {
      "text/markdown": [
       "---"
      ],
      "text/plain": [
       "<IPython.core.display.Markdown object>"
      ]
     },
     "metadata": {},
     "output_type": "display_data"
    },
    {
     "data": {
      "text/markdown": [
       "<B>Question:</B>"
      ],
      "text/plain": [
       "<IPython.core.display.Markdown object>"
      ]
     },
     "metadata": {},
     "output_type": "display_data"
    },
    {
     "data": {
      "text/markdown": [
       "Does the document describe the current system architecture?"
      ],
      "text/plain": [
       "<IPython.core.display.Markdown object>"
      ]
     },
     "metadata": {},
     "output_type": "display_data"
    },
    {
     "data": {
      "text/markdown": [
       "<B>Response:</B>"
      ],
      "text/plain": [
       "<IPython.core.display.Markdown object>"
      ]
     },
     "metadata": {},
     "output_type": "display_data"
    },
    {
     "data": {
      "text/markdown": [
       "No, the document does not describe the current system architecture. It provides information about the desired capabilities and functionalities for a new system or suite of systems that will replace the current system."
      ],
      "text/plain": [
       "<IPython.core.display.Markdown object>"
      ]
     },
     "metadata": {},
     "output_type": "display_data"
    },
    {
     "data": {
      "text/markdown": [
       "---"
      ],
      "text/plain": [
       "<IPython.core.display.Markdown object>"
      ]
     },
     "metadata": {},
     "output_type": "display_data"
    },
    {
     "data": {
      "text/markdown": [
       "<B>Question:</B>"
      ],
      "text/plain": [
       "<IPython.core.display.Markdown object>"
      ]
     },
     "metadata": {},
     "output_type": "display_data"
    },
    {
     "data": {
      "text/markdown": [
       "Does the document describe future changes they would like to see in new releases?"
      ],
      "text/plain": [
       "<IPython.core.display.Markdown object>"
      ]
     },
     "metadata": {},
     "output_type": "display_data"
    },
    {
     "data": {
      "text/markdown": [
       "<B>Response:</B>"
      ],
      "text/plain": [
       "<IPython.core.display.Markdown object>"
      ]
     },
     "metadata": {},
     "output_type": "display_data"
    },
    {
     "data": {
      "text/markdown": [
       "No, the document does not describe future changes they would like to see in new releases. It primarily focuses on the capabilities and functionality sought by the Defense Health Agency (DHA) for the Medical Quality Assurance System (MQAS) and the requirements for potential vendors."
      ],
      "text/plain": [
       "<IPython.core.display.Markdown object>"
      ]
     },
     "metadata": {},
     "output_type": "display_data"
    },
    {
     "data": {
      "text/markdown": [
       "---"
      ],
      "text/plain": [
       "<IPython.core.display.Markdown object>"
      ]
     },
     "metadata": {},
     "output_type": "display_data"
    },
    {
     "data": {
      "text/markdown": [
       "<B>Question:</B>"
      ],
      "text/plain": [
       "<IPython.core.display.Markdown object>"
      ]
     },
     "metadata": {},
     "output_type": "display_data"
    },
    {
     "data": {
      "text/markdown": [
       "Assuming we provide a written response to this document, provide a document outline for our response?"
      ],
      "text/plain": [
       "<IPython.core.display.Markdown object>"
      ]
     },
     "metadata": {},
     "output_type": "display_data"
    },
    {
     "data": {
      "text/markdown": [
       "<B>Response:</B>"
      ],
      "text/plain": [
       "<IPython.core.display.Markdown object>"
      ]
     },
     "metadata": {},
     "output_type": "display_data"
    },
    {
     "data": {
      "text/markdown": [
       "Based on the provided text, here is a suggested document outline for your response:\n",
       "\n",
       "I. Introduction\n",
       "   A. Purpose of the Response\n",
       "   B. Overview of your Company/Team/Solution Ownership\n",
       "\n",
       "II. Contract and Teaming Strategy\n",
       "   A. Description of Contract Strategy\n",
       "   B. Teaming Strategy and Partnerships\n",
       "   C. Business Type (NAICS, Hub Zone, Small/Large)\n",
       "   D. Facility for Cleared Activities\n",
       "\n",
       "III. Point of Contact Information\n",
       "   A. Contact Information for POCs\n",
       "   B. Phone, Address, Fax, Mail\n",
       "\n",
       "IV. Resource Staffing Support\n",
       "   A. Staffing Approach for Continuous Improvement Delivery\n",
       "   B. Agile Sprint Methodologies\n",
       "\n",
       "V. Responses to Cardinal Questions\n",
       "   A. Detailed Responses to the Three Cardinal Questions\n",
       "   B. Explanation of Solutions and Capabilities\n",
       "\n",
       "VI. Models and Diagrams\n",
       "   A. Physical and Logical Models\n",
       "   B. Workflows and Solution Diagrams\n",
       "   C. Systems Description Sections (as needed)\n",
       "\n",
       "VII. Proactive Monitoring and Support Costs\n",
       "   A. Proactive Monitoring Approach\n",
       "   B. After-Hours and Tier Support Costs Models\n",
       "\n",
       "VIII. Technical and Functional Capabilities\n",
       "   A. Realistic Technical Capabilities\n",
       "   B. Functional Capabilities Description\n",
       "\n",
       "IX. Examples of Projects\n",
       "   A. One to Three Examples of Similar Projects\n",
       "\n",
       "X. Capability and Functionality Sought by DHA\n",
       "   A. Minimum Outcomes Listed\n",
       "   B. Technical Architecture Diagrams\n",
       "   C. Capabilities for Privileged and Non-privileged Provider Credentialing\n",
       "   D. Capabilities for Provider Privileging Decision Support\n",
       "\n",
       "XI. Cloud-Based Solution and Cybersecurity Accreditation\n",
       "   A. Description of Scalable and Flexible Cloud-Based Solution\n",
       "   B. Innovative Solution for Document Management and Data Migration\n",
       "   C. Cybersecurity Accreditation and Certification\n",
       "\n",
       "XII. Estimate and Schedule\n",
       "   A. Rough Order of Magnitude for Required Resources\n",
       "   B. Notional Schedule and Implementation Plan\n",
       "\n",
       "XIII. Conclusion\n",
       "   A. Acknowledgement of Next Steps and Appreciation\n",
       "   B. Assurance of Complete and Detailed Response\n",
       "\n",
       "Note: This outline is a suggestion and can be customized to fit your specific response and company's capabilities."
      ],
      "text/plain": [
       "<IPython.core.display.Markdown object>"
      ]
     },
     "metadata": {},
     "output_type": "display_data"
    },
    {
     "data": {
      "text/markdown": [
       "---"
      ],
      "text/plain": [
       "<IPython.core.display.Markdown object>"
      ]
     },
     "metadata": {},
     "output_type": "display_data"
    },
    {
     "data": {
      "text/markdown": [
       "<B>Question:</B>"
      ],
      "text/plain": [
       "<IPython.core.display.Markdown object>"
      ]
     },
     "metadata": {},
     "output_type": "display_data"
    },
    {
     "data": {
      "text/markdown": [
       "In terms of capabilities and functionality sought by DHA, but do they mean by 'Minimum Outcomes' and what specific outcomes are they expecting? Provide a detailed answer."
      ],
      "text/plain": [
       "<IPython.core.display.Markdown object>"
      ]
     },
     "metadata": {},
     "output_type": "display_data"
    },
    {
     "data": {
      "text/markdown": [
       "<B>Response:</B>"
      ],
      "text/plain": [
       "<IPython.core.display.Markdown object>"
      ]
     },
     "metadata": {},
     "output_type": "display_data"
    },
    {
     "data": {
      "text/markdown": [
       "The DHA (Defense Health Agency) is seeking capabilities and functionality from industry partners that meet certain minimum outcomes. These outcomes represent the desired results or goals that the DHA expects the proposed solutions to achieve. The specific outcomes may vary depending on the area or domain being addressed. Here are some examples of the minimum outcomes mentioned in the provided text:\n",
       "\n",
       "1. High Availability: The DHA expects a minimum operational availability of 98.5% for the proposed solution. This means that the system should be highly reliable and accessible to users.\n",
       "\n",
       "2. Government FedRAMP+ Impact Level 4 approval: The DHA requires the proposed cloud-hosted software to be approved at the FedRAMP+ Impact Level 4. This certification ensures that the solution meets the necessary cybersecurity requirements.\n",
       "\n",
       "3. Evidence of Cybersecurity Compliance: The industry partners should provide evidence of their cybersecurity compliance or demonstrate their ability to obtain the DHA Authority to Operate (ATO). This ensures that the solution is secure and complies with cybersecurity standards.\n",
       "\n",
       "4. Privileged and Non-privileged Provider Credentialing: The proposed solution should have the capability to collect and manage data related to provider credentialing, including both privileged and non-privileged credentials. It should also support decision support process workflows and provide reporting and dashboard capabilities.\n",
       "\n",
       "5. Provider Privileging Decision Support: The solution should have the capability to support the provider privileging decision support process. This includes collecting relevant data and providing reporting and dashboard capabilities for the data collected during the privileging process.\n",
       "\n",
       "6. Scalable and Flexible Cloud-based Solution: The DHA is looking for a scalable and flexible cloud-based solution for Credentialing, Privileging, and Healthcare Risk Management. The solution should be able to accommodate future growth and should provide innovative and cost-efficient document management and data migration capabilities.\n",
       "\n",
       "These are just a few examples of the minimum outcomes expected by the DHA. The specific outcomes may vary based on the requirements and domain of the solution being proposed."
      ],
      "text/plain": [
       "<IPython.core.display.Markdown object>"
      ]
     },
     "metadata": {},
     "output_type": "display_data"
    },
    {
     "data": {
      "text/markdown": [
       "---"
      ],
      "text/plain": [
       "<IPython.core.display.Markdown object>"
      ]
     },
     "metadata": {},
     "output_type": "display_data"
    },
    {
     "data": {
      "text/markdown": [
       "<B>Question:</B>"
      ],
      "text/plain": [
       "<IPython.core.display.Markdown object>"
      ]
     },
     "metadata": {},
     "output_type": "display_data"
    },
    {
     "data": {
      "text/markdown": [
       "Describe in detail the capabilities for privileged and Non-privileged Provider Credentialing"
      ],
      "text/plain": [
       "<IPython.core.display.Markdown object>"
      ]
     },
     "metadata": {},
     "output_type": "display_data"
    },
    {
     "data": {
      "text/markdown": [
       "<B>Response:</B>"
      ],
      "text/plain": [
       "<IPython.core.display.Markdown object>"
      ]
     },
     "metadata": {},
     "output_type": "display_data"
    },
    {
     "data": {
      "text/markdown": [
       "The capabilities for privileged and non-privileged provider credentialing include the ability to collect and manage data related to provider credentials, as well as the ability to make informed decisions and provide support throughout the credentialing process. These capabilities are essential for ensuring that providers meet the necessary qualifications and standards to deliver quality healthcare.\n",
       "\n",
       "1. Data Collection and Management: The system should be capable of collecting and storing relevant data regarding provider credentials, such as education, training, certifications, licenses, and work experience. It should also be able to capture and manage supporting documentation, such as transcripts, certificates, and letters of recommendation.\n",
       "\n",
       "2. Decision Support Process Workflows: The system should provide customizable workflows that guide the credentialing process. These workflows should include automated checks and validation steps to ensure that all necessary information is collected, and that the provider meets the required criteria. The system should also support the ability to track the progress of each credentialing application and provide notifications or alerts for any missing or incomplete information.\n",
       "\n",
       "3. Reporting and Dashboard Capability: The system should have robust reporting and dashboard features that allow for the generation of comprehensive reports on the status of credentialing applications, as well as other relevant metrics and analytics. This capability enables stakeholders to monitor and evaluate the efficiency and effectiveness of the credentialing process.\n",
       "\n",
       "4. Privileging Process Workflow: In addition to credentialing, the system should also support the privileging process. This involves evaluating and granting specific privileges to providers based on their qualifications and expertise. The system should provide workflows and decision support tools for evaluating privilege requests, monitoring the competency of providers, and ensuring compliance with regulatory standards.\n",
       "\n",
       "5. User Access Control and Authentication: To ensure the security and confidentiality of sensitive provider credentialing data, the system should enforce user access control measures. This includes implementing multi-factor authentication methods, such as Public Key Infrastructure (PKI) controls, Common Access Card (CAC), Personal Identify Verification (PIV), username, and password. These measures help to prevent unauthorized access and protect the integrity of provider credentials.\n",
       "\n",
       "6. Collaboration Tools and Notifications: The system should provide collaboration tools, such as messaging and document sharing capabilities, to facilitate communication and collaboration among stakeholders involved in the credentialing process. It should also have notification and alert features to keep users informed of important updates, deadlines, and changes in the status of credentialing applications.\n",
       "\n",
       "7. Document Management and Storage: The system should have content management technology that allows for the efficient classification, storage, and retrieval of a large volume of credentialing-related documentation. This includes the ability to organize documents in a structured manner, perform keyword searches, and track document versions and revisions.\n",
       "\n",
       "8. Integration and Interoperability: The credentialing system should be capable of seamless integration with other systems and data sources within the healthcare organization, such as electronic health record systems, HR systems, and other relevant databases. This ensures the availability of accurate and up-to-date information for the credentialing process.\n",
       "\n",
       "Overall, the capabilities for privileged and non-privileged provider credentialing aim to streamline and automate the process, improve data accuracy and accessibility, enhance decision-making, and ensure compliance with regulatory requirements. These capabilities contribute to the overall efficiency and effectiveness of the healthcare organization's credentialing and privileging activities."
      ],
      "text/plain": [
       "<IPython.core.display.Markdown object>"
      ]
     },
     "metadata": {},
     "output_type": "display_data"
    },
    {
     "data": {
      "text/markdown": [
       "---"
      ],
      "text/plain": [
       "<IPython.core.display.Markdown object>"
      ]
     },
     "metadata": {},
     "output_type": "display_data"
    },
    {
     "data": {
      "text/markdown": [
       "<B>Question:</B>"
      ],
      "text/plain": [
       "<IPython.core.display.Markdown object>"
      ]
     },
     "metadata": {},
     "output_type": "display_data"
    },
    {
     "data": {
      "text/markdown": [
       "Describe in detail the Capabilities required for Provider Privileging Decision Support"
      ],
      "text/plain": [
       "<IPython.core.display.Markdown object>"
      ]
     },
     "metadata": {},
     "output_type": "display_data"
    },
    {
     "data": {
      "text/markdown": [
       "<B>Response:</B>"
      ],
      "text/plain": [
       "<IPython.core.display.Markdown object>"
      ]
     },
     "metadata": {},
     "output_type": "display_data"
    },
    {
     "data": {
      "text/markdown": [
       "The capabilities required for Provider Privileging Decision Support include the following:\n",
       "\n",
       "1. Privileged and Non-privileged Provider Credentialing Data Collection and Record Management: The system should be capable of collecting and managing data related to both privileged and non-privileged providers. This includes capturing provider credentials, qualifications, training, certifications, licensure, and other relevant information.\n",
       "\n",
       "2. Decision Support Process Workflows: The system should provide automated workflows that guide the decision-making process for provider privileging. This includes step-by-step processes for reviewing and evaluating provider qualifications, conducting background checks, verifying references, and assessing competency.\n",
       "\n",
       "3. Reporting and Dashboard Capability: The system should have robust reporting and dashboard features that allow users to generate comprehensive reports and visualize data related to provider privileging. This includes tracking the status of privileging requests, monitoring compliance with privileging requirements, and identifying any gaps or discrepancies in the privileging process.\n",
       "\n",
       "4. Integration with Other Systems: The system should be able to integrate with other healthcare systems and databases to access relevant information for provider privileging. This may include integration with electronic health records, credentialing verification organizations, licensing boards, and other relevant external systems.\n",
       "\n",
       "5. Compliance with Regulatory Standards: The system should be designed to comply with regulatory standards and guidelines, such as those set by The Joint Commission (TJC) and other accrediting bodies. This includes ensuring that the privileging process follows best practices and meets the requirements for evaluating provider competence and ensuring patient safety.\n",
       "\n",
       "6. Audit and Monitoring Capabilities: The system should have built-in audit and monitoring capabilities to track and record all activities related to provider privileging. This includes capturing user actions, changes to provider records, and any modifications made to privileging decisions. Audit logs should be easily accessible for review and analysis.\n",
       "\n",
       "7. Data Security and Privacy: The system should have robust security measures in place to protect sensitive provider information and ensure data privacy. This includes encryption of data, access controls, user authentication, and regular security assessments to identify and mitigate any vulnerabilities.\n",
       "\n",
       "8. Scalability and Flexibility: The system should be scalable and able to handle a large volume of privileging requests and provider data. It should also be flexible enough to accommodate changes in privileging requirements, regulatory standards, and organizational policies.\n",
       "\n",
       "9. User-Friendly Interface: The system should have an intuitive and user-friendly interface that allows users to navigate and interact with the system easily. This includes providing clear instructions, guidance, and tooltips to assist users in completing privileging tasks efficiently.\n",
       "\n",
       "10. Training and Support: The system should provide comprehensive training materials and resources to help users understand and navigate the privileging process. Additionally, there should be a dedicated support team available to assist users with any technical issues or questions related to the system.\n",
       "\n",
       "Overall, the Provider Privileging Decision Support capabilities should enable healthcare organizations to effectively manage and evaluate the competence of providers seeking privileges, ensure compliance with regulatory standards, and prioritize patient safety throughout the privileging process."
      ],
      "text/plain": [
       "<IPython.core.display.Markdown object>"
      ]
     },
     "metadata": {},
     "output_type": "display_data"
    },
    {
     "data": {
      "text/markdown": [
       "---"
      ],
      "text/plain": [
       "<IPython.core.display.Markdown object>"
      ]
     },
     "metadata": {},
     "output_type": "display_data"
    },
    {
     "data": {
      "text/markdown": [
       "<B>Question:</B>"
      ],
      "text/plain": [
       "<IPython.core.display.Markdown object>"
      ]
     },
     "metadata": {},
     "output_type": "display_data"
    },
    {
     "data": {
      "text/markdown": [
       "In detail describe how does this document define 'Realistic Technical Capabilities'."
      ],
      "text/plain": [
       "<IPython.core.display.Markdown object>"
      ]
     },
     "metadata": {},
     "output_type": "display_data"
    },
    {
     "data": {
      "text/markdown": [
       "<B>Response:</B>"
      ],
      "text/plain": [
       "<IPython.core.display.Markdown object>"
      ]
     },
     "metadata": {},
     "output_type": "display_data"
    },
    {
     "data": {
      "text/markdown": [
       "This document does not explicitly define 'Realistic Technical Capabilities'. However, it provides guidance for industry partners to consider each of the minimum outcomes listed when proposing a response. If any of the outcomes seem unrealistic, the document encourages industry partners to be candid and transparent in expressing their concerns. The document also mentions that technical architecture diagrams are preferred when possible. It suggests that industry partners should provide their capabilities for delivering a scalable and flexible cloud-based solution, obtaining cybersecurity accreditation and certification, and providing infrastructure, hardware, and software descriptions. Overall, the document emphasizes the need for innovative and cost-efficient solutions that align with the desired end-state and achievable objectives."
      ],
      "text/plain": [
       "<IPython.core.display.Markdown object>"
      ]
     },
     "metadata": {},
     "output_type": "display_data"
    },
    {
     "data": {
      "text/markdown": [
       "---"
      ],
      "text/plain": [
       "<IPython.core.display.Markdown object>"
      ]
     },
     "metadata": {},
     "output_type": "display_data"
    },
    {
     "data": {
      "text/markdown": [
       "<B>Question:</B>"
      ],
      "text/plain": [
       "<IPython.core.display.Markdown object>"
      ]
     },
     "metadata": {},
     "output_type": "display_data"
    },
    {
     "data": {
      "text/markdown": [
       "In detail describe how does this document defines required Function Capabilities."
      ],
      "text/plain": [
       "<IPython.core.display.Markdown object>"
      ]
     },
     "metadata": {},
     "output_type": "display_data"
    },
    {
     "data": {
      "text/markdown": [
       "<B>Response:</B>"
      ],
      "text/plain": [
       "<IPython.core.display.Markdown object>"
      ]
     },
     "metadata": {},
     "output_type": "display_data"
    },
    {
     "data": {
      "text/markdown": [
       "This document defines the required function capabilities by listing specific outcomes and functionalities that the integrated HRM and C&P system(s) should provide. These capabilities are outlined in various sections of the document. \n",
       "\n",
       "In the first section, it states that the system should have the capability to provide privileged and non-privileged provider credentialing data collection and record management. It should also support decision support process workflows and have reporting/dashboard capability on all data collected in the privileging process. \n",
       "\n",
       "The document also mentions the need for seamless connection to the Solution Delivery Division (SDD) Application Programming Interfaces (API) Platform or internal and external data exchanges. It emphasizes the importance of interoperability with MHS Systems and the need for content management technology to automate the classification, storage, and retrieval of a large volume of C&P and HRM documentation. Collaboration tools, notifications/alerts, and information access log files are also required capabilities.\n",
       "\n",
       "Furthermore, the document highlights the need for resource staffing support that accounts for continuous improvement delivery using Agile Sprint methodologies. It also mentions the importance of physical and logical models, workflows, and solution diagrams, as well as systems description sections. The document asks for resource staffing life cycle by role and includes proactive monitoring, after-hours, and tier support costs models.\n",
       "\n",
       "Additionally, the document specifies the capabilities required for recording, monitoring, and evaluating the privilege-specific competence of providers. It mentions the need for decision support workflow processes for clinical quality review of adverse events and adverse actions, as well as the release of information process workflow with reporting/dashboard capability. The system should also support impaired healthcare provider decision support workflow processes.\n",
       "\n",
       "The document further outlines capabilities related to user account registration with multi-factor authentication, the ability to accommodate hierarchical relationships within and across complex organizations, and the provision of value-driven AI/Data Analytics information. It also emphasizes the need for high availability, Government FedRAMP+ Impact Level 4 approved Cloud hosted software with evidence of cybersecurity compliance.\n",
       "\n",
       "In summary, this document defines the required function capabilities by specifying the outcomes and functionalities that the integrated HRM and C&P system(s) should provide, including data collection and management, decision support workflows, reporting and dashboard capabilities, interoperability, document management, collaboration tools, and cybersecurity compliance, among others."
      ],
      "text/plain": [
       "<IPython.core.display.Markdown object>"
      ]
     },
     "metadata": {},
     "output_type": "display_data"
    },
    {
     "data": {
      "text/markdown": [
       "---"
      ],
      "text/plain": [
       "<IPython.core.display.Markdown object>"
      ]
     },
     "metadata": {},
     "output_type": "display_data"
    }
   ],
   "source": [
    "import string\n",
    "import re\n",
    "from IPython.display import display, Markdown, HTML\n",
    "\n",
    "for index, row in df_analysis.iterrows():\n",
    "    display(Markdown(\"<B>Question:</B>\"), Markdown(row['question']))\n",
    "    # display(Markdown(\"<B>Business Objective:</B>\"), Markdown(row['O']))\n",
    "    display(Markdown(\"<B>Response:</B>\"), Markdown(row['response']))\n",
    "    display(Markdown(\"---\"))"
   ]
  },
  {
   "cell_type": "markdown",
   "id": "a6e4885a",
   "metadata": {},
   "source": [
    "# Create Chain"
   ]
  },
  {
   "cell_type": "code",
   "execution_count": 165,
   "id": "ee95d756",
   "metadata": {
    "ExecuteTime": {
     "end_time": "2023-07-28T23:08:17.626104Z",
     "start_time": "2023-07-28T23:08:17.622241Z"
    },
    "scrolled": true
   },
   "outputs": [],
   "source": [
    "template = \"\"\"\n",
    "You are a helpful assistant that will search the internet to provide a detailed answer to the user's question. \n",
    "If the TEXT below helps answer the user's question, then incorporate it into your answer.\n",
    "Otherwise, just use the search tool to find an answer.\n",
    "Perform up to 8 internet searches if neccessary for answering the entire question.\n",
    "\n",
    "TEXT:\n",
    "{mytext}\n",
    "\n",
    "\"\"\"\n",
    "system_message_prompt = SystemMessagePromptTemplate.from_template(template)\n",
    "human_template = \"\"\"\n",
    "QUESTION: \n",
    "{myquestion}\n",
    "Provide a very detailed answer to the user's question. Explain each element of your response.\n",
    "\"\"\"\n",
    "human_message_prompt = HumanMessagePromptTemplate.from_template(human_template)\n",
    "\n",
    "chat_prompt = ChatPromptTemplate.from_messages([system_message_prompt, human_message_prompt])\n",
    "\n"
   ]
  },
  {
   "cell_type": "code",
   "execution_count": 166,
   "id": "500d3b1b",
   "metadata": {
    "ExecuteTime": {
     "end_time": "2023-07-28T23:08:18.538623Z",
     "start_time": "2023-07-28T23:08:18.535442Z"
    },
    "scrolled": true
   },
   "outputs": [
    {
     "name": "stdout",
     "output_type": "stream",
     "text": [
      "messages=[SystemMessage(content=\"\\nYou are a helpful assistant that will search the internet to provide a detailed answer to the user's question. \\nIf the TEXT below helps answer the user's question, then incorporate it into your answer.\\nOtherwise, just use the search tool to find an answer.\\nPerform up to 8 internet searches if neccessary for answering the entire question.\\n\\nTEXT:\\nMyText stuff here\\n\\n\", additional_kwargs={}), HumanMessage(content=\"\\nQUESTION: \\nHere is my question\\nProvide a very detailed answer to the user's question. Explain each element of your response.\\n\", additional_kwargs={}, example=False)]\n"
     ]
    }
   ],
   "source": [
    "myprompt = chat_prompt.format_prompt(mytext=\"MyText stuff here\", myquestion=\"Here is my question\")\n",
    "print(myprompt)"
   ]
  },
  {
   "cell_type": "code",
   "execution_count": 202,
   "id": "377f270d",
   "metadata": {
    "ExecuteTime": {
     "end_time": "2023-07-28T23:37:43.718093Z",
     "start_time": "2023-07-28T23:37:43.711636Z"
    },
    "scrolled": true
   },
   "outputs": [],
   "source": [
    "from langchain.agents import initialize_agent, AgentType\n",
    "from langchain.chat_models import ChatOpenAI\n",
    "from langchain.tools import DuckDuckGoSearchRun\n",
    "\n",
    "def ask_question(myquestion,myrelevancy = .7, myk = 15, mymodel = 'gpt-4', mycache=True, myverbosity=True):\n",
    "\n",
    "    docs = db3.similarity_search_with_relevance_scores(myquestion, k=myk)\n",
    "\n",
    "    mytext = \"\"\n",
    "    for x,v in docs:\n",
    "        if mytext == \"\":\n",
    "            mytext = str(x) + \"\\n\\n\"\n",
    "            continue\n",
    "        if v > myrelevancy:\n",
    "            mytext = mytext + str(x) + \"\\n\\n\"\n",
    "\n",
    "    myprompt = chat_prompt.format_prompt(mytext=mytext, myquestion=myquestion)\n",
    "\n",
    "    llm = ChatOpenAI(model=mymodel,cache=mycache,temperature=.2, n=2)\n",
    "    search_agent = initialize_agent(\n",
    "        tools=[DuckDuckGoSearchRun(name=\"Search\")],\n",
    "        llm=llm,\n",
    "        agent=AgentType.ZERO_SHOT_REACT_DESCRIPTION,\n",
    "        handle_parsing_errors=True,\n",
    "        verbose=myverbosity,\n",
    "        return_intermediate_steps=False,\n",
    "    )\n",
    "    \n",
    "    results = search_agent.run(myprompt)\n",
    "    \n",
    "    return results\n",
    "\n",
    "def save_to_dataframe(myquestion, mychain, myresponse):\n",
    "    if len(df_analysis[df_analysis['question'] == myquestion]) > 0:\n",
    "        myindex = df_analysis[df_analysis['question'] == myquestion].index.to_list()[0]\n",
    "    else:\n",
    "        myindex = len(df_analysis)\n",
    "\n",
    "    df_analysis.loc[myindex]= {'question': myquestion, 'chain': mychain, 'response': myresponse}\n",
    "    \n",
    "    return"
   ]
  },
  {
   "cell_type": "code",
   "execution_count": 168,
   "id": "ac415a50",
   "metadata": {
    "ExecuteTime": {
     "end_time": "2023-07-28T23:08:46.606985Z",
     "start_time": "2023-07-28T23:08:20.256438Z"
    },
    "scrolled": true
   },
   "outputs": [
    {
     "name": "stdout",
     "output_type": "stream",
     "text": [
      "\n",
      "\n",
      "\u001b[1m> Entering new AgentExecutor chain...\u001b[0m\n",
      "\u001b[32;1m\u001b[1;3mThe user is asking for a detailed explanation of the key steps involved in medical credentialing. The provided text does not give a step-by-step process for medical credentialing, so I will need to use the search tool to find a detailed answer. \n",
      "Action: Search\n",
      "Action Input: Key steps in medical credentialing process\u001b[0m\n",
      "Observation: \u001b[36;1m\u001b[1;3mIn general, any licensed, independent healthcare professional who has been permitted by law and regulated by a licensing organization to provide services and care without supervision or direction within the scope of the individual's license needs to be credentialed. While every state has unique laws regarding medical practice, simply having a ... Provider credentialing is the process of assessing and establishing the provider's competency and verifying the practitioner's qualifications to practice medicine. It is a tedious process carried out by insurance companies. They verify the provider's qualifications to check if they are capable of providing safe and high-quality patient care. At their most basic level, the three processes are: Credentialing: Generally refers to primary source credentialing (background check), also known as primary source verification. 1. Pre-credentialing This step is essential in laying the groundwork for a smooth and successful credentialing process. During pre-credentialing, you will need to gather all the required documentation from the provider. This includes their medical license, malpractice insurance information, and other relevant credentials. 1) Collection of Required Documentation Initiate the credentialing process through the collection of necessary documents. This step commonly involves educational documents, board certifications, current licenses, training certifications, professional liability insurance, and a detailed resume. All the records should be up-to-date and accurate.\u001b[0m\n",
      "Thought:\u001b[32;1m\u001b[1;3mThe search results provide a detailed explanation of the key steps involved in medical credentialing. The process begins with pre-credentialing, where all necessary documentation from the provider is collected. This includes their medical license, malpractice insurance information, and other relevant credentials. The documents required typically include educational documents, board certifications, current licenses, training certifications, professional liability insurance, and a detailed resume. All the records should be up-to-date and accurate. The next step involves the assessment and establishment of the provider's competency and verification of the practitioner's qualifications to practice medicine. This is a rigorous process carried out by insurance companies to ensure that the provider is capable of providing safe and high-quality patient care. \n",
      "Final Answer: Medical credentialing is a meticulous process that involves several key steps. \n",
      "\n",
      "1. **Pre-credentialing**: This is the first step and is crucial for a smooth credentialing process. During this phase, all required documentation from the healthcare provider is gathered. This includes their medical license, malpractice insurance information, and other relevant credentials.\n",
      "\n",
      "2. **Collection of Required Documentation**: The credentialing process is initiated through the collection of necessary documents. These typically include educational documents, board certifications, current licenses, training certifications, professional liability insurance, and a detailed resume. It is essential that all these records are up-to-date and accurate.\n",
      "\n",
      "3. **Assessment and Verification**: This step involves assessing and establishing the provider's competency. The practitioner's qualifications to practice medicine are verified. This is a rigorous process carried out by insurance companies to ensure that the provider is capable of providing safe and high-quality patient care. \n",
      "\n",
      "Each of these steps is critical to ensure that healthcare providers are qualified and competent to deliver safe and effective care to patients.\u001b[0m\n",
      "\n",
      "\u001b[1m> Finished chain.\u001b[0m\n",
      "Medical credentialing is a meticulous process that involves several key steps. \n",
      "\n",
      "1. **Pre-credentialing**: This is the first step and is crucial for a smooth credentialing process. During this phase, all required documentation from the healthcare provider is gathered. This includes their medical license, malpractice insurance information, and other relevant credentials.\n",
      "\n",
      "2. **Collection of Required Documentation**: The credentialing process is initiated through the collection of necessary documents. These typically include educational documents, board certifications, current licenses, training certifications, professional liability insurance, and a detailed resume. It is essential that all these records are up-to-date and accurate.\n",
      "\n",
      "3. **Assessment and Verification**: This step involves assessing and establishing the provider's competency. The practitioner's qualifications to practice medicine are verified. This is a rigorous process carried out by insurance companies to ensure that the provider is capable of providing safe and high-quality patient care. \n",
      "\n",
      "Each of these steps is critical to ensure that healthcare providers are qualified and competent to deliver safe and effective care to patients.\n"
     ]
    }
   ],
   "source": [
    "myquestion = \"Describe the key steps when performing medical credentialing.\"\n",
    "\n",
    "results = ask_question(myquestion) #,mymodel=\"gpt-4\",myrelevancy=.5,myk=25,mycache=False\n",
    "print(results)\n",
    "\n",
    "df_analysis.loc[len(df_analysis.index)]= {'question': myquestion, 'chain': 'Executer','response': results}"
   ]
  },
  {
   "cell_type": "code",
   "execution_count": 169,
   "id": "2fdb5926",
   "metadata": {
    "ExecuteTime": {
     "end_time": "2023-07-28T23:13:12.581516Z",
     "start_time": "2023-07-28T23:12:19.337478Z"
    },
    "scrolled": true
   },
   "outputs": [
    {
     "name": "stdout",
     "output_type": "stream",
     "text": [
      "\n",
      "\n",
      "\u001b[1m> Entering new AgentExecutor chain...\u001b[0m\n",
      "\u001b[32;1m\u001b[1;3mThe user is asking for open source applications that perform medical credentialing. To answer this question, I will need to search for open source applications that are used for medical credentialing.\n",
      "Action: Search\n",
      "Action Input: Open source applications for medical credentialing\u001b[0m\n",
      "Observation: \u001b[36;1m\u001b[1;3mMEDICAL CREDENTIALING SOFTWARE. The solution is a win-win for providers, patients, and facilities! The credentialing process is fast and hassle-free. With our credentialing software providers can start treating patients sooner, revenue is boosted, administrative work is reduced, and there is more time for patient care. Schedule a Demo. Health care credentialing software automates and simplifies the process of vendor, facility, and insurance provider credentialing. To stay compliant with health care facility policies and requirements, credentialing software takes over the manual process of verifying, screening, and generating contracts, applications, and other forms. Perhaps the most ubiquitous examples of open source software in the healthcare sector are those designed to manage patient records, with applications such as Open Hospital, Open EMR, and Open MRS all helping hospitals and surgeries to hold and manage electronic health records (EHR). OpenMRS works as open source Electronic Medical Record software to improve healthcare delivery in low-resource environments. These cloud-based EMR software solutions allow practices to design and create the patients' medical records. What Is Healthcare Credentialing? Healthcare credentialing is often used to secure a job with a specific facility. Employers prefer healthcare workers that have the correct credentials to verify they are trained and licensed to practice.\u001b[0m\n",
      "Thought:\u001b[32;1m\u001b[1;3mFrom the search results, it appears that there are several open source software applications that are used in the healthcare sector, such as Open Hospital, Open EMR, and Open MRS. However, these applications are primarily used for managing patient records and improving healthcare delivery in low-resource environments. The search did not provide specific examples of open source applications that are used for medical credentialing. I will perform another search to find open source applications specifically designed for medical credentialing.\n",
      "Action: Search\n",
      "Action Input: Open source medical credentialing software\u001b[0m\n",
      "Observation: \u001b[36;1m\u001b[1;3mMedTrainer. MedTrainer is a healthcare software system for learning, compliance, and credentialing. Package together your perfect solution with MedTrainer. Healthcare organizations of any size will have compliance insurance and risk mitigation in the palm of their hands. Automate healthcare learning with access to 500+ courses for OSHA, HIPAA ... MEDICAL CREDENTIALING SOFTWARE. The solution is a win-win for providers, patients, and facilities! The credentialing process is fast and hassle-free. With our credentialing software providers can start treating patients sooner, revenue is boosted, administrative work is reduced, and there is more time for patient care. Schedule a Demo. About MedTrainer MedTrainer is a healthcare software system for learning, compliance, and credentialing. Package together your perfect solution with MedTrainer. Healthcare organizations of any size will have compliance insurance and risk mitigation in the palm of their hands. Health care credentialing software automates and simplifies the process of vendor, facility, and insurance provider credentialing. To stay compliant with health care facility policies and requirements, credentialing software takes over the manual process of verifying, screening, and generating contracts, applications, and other forms. Healthcare compliance software facilitates the successful deployment and maintenance of a compliance program, the results of which include the reduction of fraud and abuse, the enhancement and optimization of health care operations, the improved delivery and quality of health care services, and the reduction of overall health care costs.\u001b[0m\n",
      "Thought:\u001b[32;1m\u001b[1;3mThe search results mention MedTrainer as a healthcare software system for learning, compliance, and credentialing. However, it's not clear if MedTrainer is an open-source application. The search results didn't provide any specific examples of open-source applications that are used for medical credentialing. I will perform another search to find open-source applications specifically designed for medical credentialing.\n",
      "Action: Search\n",
      "Action Input: Is MedTrainer an open source software?\u001b[0m\n",
      "Observation: \u001b[36;1m\u001b[1;3mMedTrainer is a healthcare software system for learning, compliance, and credentialing. Package together your perfect solution with MedTrainer. Healthcare organizations of any size will have compliance insurance and risk mitigation in the palm of their hands. Doctors, Administrators, and Nurses from large cities to rural areas use MedTrainer to ... MedTrainer works with healthcare organizations large and small in all parts of the U.S. Many MedTrainer Learning courses are designed to meet specific state requirements and our credentialing specialists are on regionally-focused teams so they remain up-to-date on state regulations and keep payer enrollment applications on file. MedTrainer is a great resource. More than that, the customer support and MedTrainer team are what make the software exceptional. They help to truly customize functions based on our needs. Among other things, we were able to transition to electronic incident reporting and ensure a speedy and simple way to deliver required annual compliance training. MedTrainer is a healthcare software system for learning, compliance, and credentialing. Package together your perfect solution with MedTrainer. Healthcare organizations of any size will have compliance insurance and risk mitigation in the palm of their hands. The McKesson Medical-Surgical Government Solutions team can be a single source for your lab needs, providing the products and solutions you need to improve your lab's outcomes and efficiency. Each day, you provide urgent, lifesaving care. To do that, you have to get the products you need when you need them.\u001b[0m\n",
      "Thought:\u001b[32;1m\u001b[1;3mThe search results do not indicate that MedTrainer is an open-source software. It seems to be a proprietary healthcare software system used for learning, compliance, and credentialing. Given the results of the searches, it appears that there may not be specific open-source applications designed for medical credentialing. However, I will perform one more search to confirm this.\n",
      "Action: Search\n",
      "Action Input: List of open source software for medical credentialing\u001b[0m\n",
      "Observation: \u001b[36;1m\u001b[1;3mMedTrainer. MedTrainer is a healthcare software system for learning, compliance, and credentialing. Package together your perfect solution with MedTrainer. Healthcare organizations of any size will have compliance insurance and risk mitigation in the palm of their hands. Automate healthcare learning with access to 500+ courses for OSHA, HIPAA ... MEDICAL CREDENTIALING SOFTWARE. The solution is a win-win for providers, patients, and facilities! The credentialing process is fast and hassle-free. With our credentialing software providers can start treating patients sooner, revenue is boosted, administrative work is reduced, and there is more time for patient care. Schedule a Demo. Credit: Fregly group/Rice University. A team of Rice University engineers has launched a first-of-its-kind, open-source software that constructs and uses personalized computer models of how ... Additionally, health care credentialing software can prepare health care organizations for audits, securely store reliable and/or up-to-date provider information, and ensure that all documents and accreditations are easy to find and remain secure. To qualify for inclusion in the Health Care Credentialing category, a product must: Perhaps the most ubiquitous examples of open source software in the healthcare sector are those designed to manage patient records, with applications such as Open Hospital, Open EMR, and Open MRS all helping hospitals and surgeries to hold and manage electronic health records (EHR).\u001b[0m\n"
     ]
    },
    {
     "name": "stdout",
     "output_type": "stream",
     "text": [
      "Thought:\u001b[32;1m\u001b[1;3mThe search results still do not provide any specific examples of open-source applications that are used for medical credentialing. It seems that while there are open-source applications in the healthcare sector, such as Open Hospital, Open EMR, and Open MRS, these are primarily used for managing patient records. Medical credentialing appears to be a specialized function that may not have specific open-source applications. \n",
      "Final Answer: Based on the search results, there do not appear to be specific open-source applications designed for medical credentialing. While there are open-source applications in the healthcare sector, such as Open Hospital, Open EMR, and Open MRS, these are primarily used for managing patient records and improving healthcare delivery in low-resource environments. Medical credentialing, which involves verifying the qualifications and practice history of healthcare providers, appears to be a specialized function that may not have specific open-source applications. However, there are proprietary healthcare software systems, such as MedTrainer, that provide functions for learning, compliance, and credentialing.\u001b[0m\n",
      "\n",
      "\u001b[1m> Finished chain.\u001b[0m\n",
      "Based on the search results, there do not appear to be specific open-source applications designed for medical credentialing. While there are open-source applications in the healthcare sector, such as Open Hospital, Open EMR, and Open MRS, these are primarily used for managing patient records and improving healthcare delivery in low-resource environments. Medical credentialing, which involves verifying the qualifications and practice history of healthcare providers, appears to be a specialized function that may not have specific open-source applications. However, there are proprietary healthcare software systems, such as MedTrainer, that provide functions for learning, compliance, and credentialing.\n"
     ]
    }
   ],
   "source": [
    "myquestion = \"Are there any open source applications that perform medical credentialing.\"\n",
    "\n",
    "results = ask_question(myquestion) #,mymodel=\"gpt-4\",myrelevancy=.5,myk=25,mycache=False\n",
    "print(results)\n",
    "\n",
    "save_to_dataframe (myquestion=myquestion, mychain='Executer',myresponse= results)"
   ]
  },
  {
   "cell_type": "code",
   "execution_count": 204,
   "id": "16858166",
   "metadata": {
    "ExecuteTime": {
     "end_time": "2023-07-28T23:38:58.185828Z",
     "start_time": "2023-07-28T23:38:57.964800Z"
    }
   },
   "outputs": [
    {
     "name": "stdout",
     "output_type": "stream",
     "text": [
      "Medical credentialing information is crucial for a variety of decisions in the healthcare sector. Here are some examples:\n",
      "\n",
      "1. Provider Privileging: Medical credentialing information is used to evaluate the privilege-specific competence of a healthcare provider. This involves assessing whether the provider has documented evidence of competently performing the requested privilege(s) at the organization. This process is compliant with the Focused Professional Practice Evaluation (FPPE) and Ongoing Professional Practice Evaluation (OPPE) standards set by The Joint Commission (TJC).\n",
      "\n",
      "2. Healthcare Risk Management: Medical credentialing information is used in decision-making processes related to healthcare risk management. This includes reviewing adverse events and actions, other reportable actions, and Potential Compensatory Events. The goal is to manage and mitigate risks associated with healthcare delivery.\n",
      "\n",
      "3. Release of Information: When it comes to releasing information related to HRM processes, medical credentialing information is used to ensure that the release is compliant with relevant regulations and standards.\n",
      "\n",
      "4. Impaired Healthcare Provider Decisions: If a healthcare provider is impaired, medical credentialing information can be used to guide decision-making processes related to their ability to provide care.\n",
      "\n",
      "5. User Account Registration: In a digital context, medical credentialing information can be used to verify the identity of users (e.g., healthcare providers) when they register for an account on a healthcare IT system.\n",
      "\n",
      "6. AI/Data Analytics: Medical credentialing information can be used to inform AI and data analytics processes. This can help to drive efficiencies and improvements in areas like service management and network performance.\n",
      "\n",
      "7. Interoperability: Medical credentialing information can be used to facilitate interoperability between different IT systems in the healthcare sector. This can help to ensure that data is shared and used effectively across different platforms and services.\n",
      "\n",
      "In summary, medical credentialing information is a vital tool for decision-making in the healthcare sector. It helps to ensure that healthcare providers are competent, that risks are managed effectively, and that IT systems are used efficiently and securely.\n"
     ]
    }
   ],
   "source": [
    "myquestion = \"What kinds of decisions would require you to use medical credentialing information?\"\n",
    "\n",
    "results = ask_question(myquestion, myverbosity=False) #,mymodel=\"gpt-3.5-turbo\",myrelevancy=.5,myk=25,mycache=False\n",
    "print(results)\n",
    "\n",
    "save_to_dataframe (myquestion=myquestion, mychain='Executer',myresponse= results)"
   ]
  },
  {
   "cell_type": "code",
   "execution_count": 206,
   "id": "239e94f4",
   "metadata": {
    "ExecuteTime": {
     "end_time": "2023-07-28T23:40:51.236625Z",
     "start_time": "2023-07-28T23:39:47.231849Z"
    }
   },
   "outputs": [
    {
     "name": "stdout",
     "output_type": "stream",
     "text": [
      "A healthcare risk management system and medical credentialing information are both crucial components of a comprehensive healthcare management system. The Defense Health Agency (DHA) is working on integrating these two systems to improve the quality and safety of healthcare services.\n",
      "\n",
      "Medical credentialing is a process that verifies the qualifications and practice history of a healthcare provider. This includes checking the provider's education, training, residency, and licenses, as well as any certifications issued by a board in the provider's specialty. The credentialing process ensures that healthcare providers have the necessary qualifications and experience to provide quality care to patients.\n",
      "\n",
      "On the other hand, healthcare risk management is a process that identifies and assesses potential risks in a healthcare setting, with the goal of improving patient safety and quality of care, and reducing medical errors. This involves analyzing data from various sources, including medical credentialing information, to identify potential risks and develop strategies to mitigate them.\n",
      "\n",
      "The integration of these two systems can provide several benefits. For example, by having access to comprehensive and up-to-date credentialing information, a healthcare risk management system can more accurately assess the potential risks associated with a particular healthcare provider. This can help in making informed decisions about the provider's privileges and responsibilities within the healthcare organization.\n",
      "\n",
      "Furthermore, the integration of these two systems can facilitate the sharing of information and collaboration between different departments within a healthcare organization. For example, the risk management department can use credentialing information to identify providers who may need additional training or supervision, while the credentialing department can use risk management data to identify providers who have a history of medical errors or malpractice claims.\n",
      "\n",
      "In summary, a healthcare risk management system can use medical credentialing information to assess potential risks, make informed decisions about healthcare providers, and improve the overall quality and safety of healthcare services.\n"
     ]
    }
   ],
   "source": [
    "myquestion = \"How would a healthcare risk management system use medical credentialing information?\"\n",
    "\n",
    "results = ask_question(myquestion, myverbosity=False) #,mymodel=\"gpt-3.5-turbo\",myrelevancy=.5,myk=25,mycache=False\n",
    "print(results)\n",
    "\n",
    "save_to_dataframe (myquestion=myquestion, mychain='Executer',myresponse= results)"
   ]
  },
  {
   "cell_type": "code",
   "execution_count": 225,
   "id": "5a13abcb",
   "metadata": {
    "ExecuteTime": {
     "end_time": "2023-07-29T00:28:45.349226Z",
     "start_time": "2023-07-29T00:27:36.016319Z"
    }
   },
   "outputs": [
    {
     "name": "stdout",
     "output_type": "stream",
     "text": [
      "In the context of a medical credentialing system, the following metrics could be considered:\n",
      "\n",
      "1. Total Days in Enrollment: This measures the average time it takes to enroll a provider in the system. A shorter enrollment time could indicate a more efficient system.\n",
      "\n",
      "2. Application Processing Time: This measures how long it takes to process an application for credentialing. A shorter processing time could indicate a more efficient system.\n",
      "\n",
      "3. Provider Performance: Continuous monitoring of provider performance and adherence to quality metrics is crucial. This could include measures of patient satisfaction, patient outcomes, and adherence to clinical guidelines.\n",
      "\n",
      "4. Data Privacy and Security: Given the sensitive nature of the data involved in medical credentialing, metrics related to data privacy and security could be important. This could include measures of data breaches or other security incidents.\n",
      "\n",
      "5. Compliance with Regulations: Compliance with relevant regulations and standards (such as those set by The Joint Commission) is crucial in medical credentialing. Metrics related to compliance could therefore be important.\n",
      "\n",
      "6. Provider Verification Efficiency: The system should allow for efficient processes for provider verification to deliver timely health care to beneficiaries. The efficiency can be measured by the time taken to verify a provider's credentials.\n",
      "\n",
      "These metrics provide a comprehensive view of the performance of a medical credentialing system, covering aspects from efficiency and provider performance to data security and regulatory compliance. However, the specific metrics used may vary depending on the specific needs and context of the healthcare organization.\n"
     ]
    }
   ],
   "source": [
    "myquestion = \"What are unique metrics you would need to monitor when monitoring a medical credentialing system.\"\n",
    "\n",
    "results = ask_question(myquestion, myverbosity=False) #,mymodel=\"gpt-3.5-turbo\",myrelevancy=.5,myk=25,mycache=False\n",
    "print(results)\n",
    "\n",
    "save_to_dataframe (myquestion=myquestion, mychain='Executer',myresponse= results)"
   ]
  },
  {
   "cell_type": "code",
   "execution_count": 227,
   "id": "974d8ef7",
   "metadata": {
    "ExecuteTime": {
     "end_time": "2023-07-29T00:35:25.410737Z",
     "start_time": "2023-07-29T00:34:48.598553Z"
    }
   },
   "outputs": [
    {
     "name": "stdout",
     "output_type": "stream",
     "text": [
      "The Healthcare Risk Management (HRM) process is a systematic approach used in the management of clinical quality review of adverse events and adverse actions, other reportable actions, and release of information as appropriate. The overarching goal of HRM is to provide and maintain high-quality healthcare services. \n",
      "\n",
      "The HRM process involves several steps. First, it requires the ability to record, monitor, and evaluate the privilege-specific competence of the provider that lacks documented evidence of competently performing the requested privilege(s) at the organization. This is done through the Focused Professional Practice Evaluation (FPPE) and Ongoing Professional Practice Evaluation (OPPE) process, which is compliant with The Joint Commission (TJC).\n",
      "\n",
      "Second, the HRM process involves decision support workflow processes for clinical quality review of adverse events and adverse actions, other reportable actions, and Potential Compensatory Events. This includes the ability to provide a release of information process workflow with reporting/dashboard capability as it pertains to HRM processes.\n",
      "\n",
      "Third, the HRM process requires the ability to provide Impaired Healthcare Provider decision support workflow processes. \n",
      "\n",
      "In terms of metrics, the HRM process involves the collection and management of data related to provider credentialing, privileging, and healthcare risk management. This data is used to support decision-making processes and is presented through reporting/dashboard capabilities.\n",
      "\n",
      "The users of the HRM process are healthcare providers and healthcare risk management professionals. These individuals use the data collected through the HRM process to make informed decisions about healthcare provision and risk management.\n",
      "\n",
      "The HRM process is supported by IT systems that standardize, centralize, and integrate the medical staff management capabilities of credentialing and privileging, and health care risk management. These systems also provide content management technology to automate the classification, storage, and efficient retrieval of a very large volume of credentialing, privileging, and HRM documentation. They also provide collaboration tools, notifications/alerts, and information access log files.\n"
     ]
    }
   ],
   "source": [
    "myquestion = \"Give a detailed description of the Healthcare Risk Management process. Describe in detail the metrics, processes, and users.\"\n",
    "\n",
    "results = ask_question(myquestion, myverbosity=False) #,mymodel=\"gpt-3.5-turbo\",myrelevancy=.5,myk=25,mycache=False\n",
    "print(results)\n",
    "\n",
    "save_to_dataframe (myquestion=myquestion, mychain='Executer',myresponse= results)"
   ]
  },
  {
   "cell_type": "code",
   "execution_count": 235,
   "id": "66277513",
   "metadata": {
    "ExecuteTime": {
     "end_time": "2023-07-29T01:51:55.956771Z",
     "start_time": "2023-07-29T01:50:44.651449Z"
    }
   },
   "outputs": [
    {
     "name": "stdout",
     "output_type": "stream",
     "text": [
      "The employee credentialing process can significantly benefit the \"Resource Management\" process in several ways:\n",
      "\n",
      "1. **Improving Trust**: Credentialing helps to establish trust within the organization and with external stakeholders. When employees are properly credentialed, it signifies that they have met certain standards of competence and ethical behavior. This can improve trust among team members, between employees and management, and with clients or customers who interact with the organization.\n",
      "\n",
      "2. **Enhancing Revenue Cycle Management**: In a healthcare context, credentialing is a crucial part of the revenue cycle management process. It helps to avoid challenges like delays in payer enrollment, billing denials, and administrative errors. By ensuring that all healthcare providers are properly credentialed, the organization can reduce these issues and improve its financial performance.\n",
      "\n",
      "3. **Increasing the Talent Pool**: Credentialing can attract more qualified candidates to the organization. By offering credentialing opportunities, the organization can increase its appeal to potential employees, thereby expanding the pool of talent from which it can draw. This can lead to a higher quality of hires and a more skilled and competent workforce.\n",
      "\n",
      "4. **Validating Education and Training**: Credentialing programs validate the education and training provided by the organization. This can give employees an incentive for further achievement and can be a good predictor of success and achievement. By ensuring that employees are properly credentialed, the organization can ensure that they are competent and capable of performing their roles effectively.\n",
      "\n",
      "5. **Enhancing Career Development**: Credentialing can also play a role in career development. By offering credentialing opportunities, the organization can provide a pathway for employees to advance in their careers. This can lead to higher job satisfaction and retention rates, which are beneficial for resource management.\n",
      "\n",
      "In summary, the employee credentialing process can enhance resource management by improving trust, enhancing revenue cycle management, increasing the talent pool, validating education and training, and enhancing career development.\n"
     ]
    }
   ],
   "source": [
    "myquestion = \"How does the \\\"Resource Management\\\" process benefit from an employee credentialing process?\"\n",
    "\n",
    "results = ask_question(myquestion, myverbosity=False) #,mymodel=\"gpt-3.5-turbo\",myrelevancy=.5,myk=25,mycache=False\n",
    "print(results)\n",
    "\n",
    "save_to_dataframe (myquestion=myquestion, mychain='Executer',myresponse= results)"
   ]
  },
  {
   "cell_type": "code",
   "execution_count": 237,
   "id": "e3d3078a",
   "metadata": {
    "ExecuteTime": {
     "end_time": "2023-07-29T01:59:40.200213Z",
     "start_time": "2023-07-29T01:58:47.810328Z"
    }
   },
   "outputs": [
    {
     "name": "stdout",
     "output_type": "stream",
     "text": [
      "Low-code software like Appian offers several benefits to customers. Firstly, it allows for the development of software and processes visually through graphical interfaces and visual modeling. This approach can speed up the development process significantly, turning ideas into business apps up to 20 times faster than traditional coding. This speed allows businesses to quickly adapt to new opportunities. \n",
      "\n",
      "Additionally, low-code platforms enable the creation of consistent customer experiences across various platforms, including web, social, and mobile. This consistency can enhance the user experience and increase customer satisfaction.\n",
      "\n",
      "Specifically, Appian software offers unique benefits. It helps end the culture of data decentralization, enabling better tracking of company processes. It provides interactive reports for business data analysis and centralizes communication with users. Appian also simplifies system integrations by providing a single point of access to all data sources, eliminating the need for direct system-to-system API calls.\n",
      "\n",
      "Moreover, Appian offers scalability and the ability to use multiple automation technologies to accelerate more complex processes. This capability allows organizations to reach their hyperautomation potential. Software developers can use these technologies to build AI-empowered applications faster and more easily. \n",
      "\n",
      "In conclusion, the use of low-code software like Appian can significantly benefit customers by speeding up development, enhancing user experience, improving data management, simplifying integrations, and enabling the use of advanced technologies.\n"
     ]
    }
   ],
   "source": [
    "myquestion = \"How does the use of low-code software such as Appian benefit the customer?\"\n",
    "\n",
    "results = ask_question(myquestion, myverbosity=False) #,mymodel=\"gpt-3.5-turbo\",myrelevancy=.5,myk=25,mycache=False\n",
    "print(results)\n",
    "\n",
    "save_to_dataframe (myquestion=myquestion, mychain='Executer',myresponse= results)"
   ]
  },
  {
   "cell_type": "code",
   "execution_count": 238,
   "id": "c30b0b6b",
   "metadata": {
    "ExecuteTime": {
     "end_time": "2023-07-29T02:01:11.565657Z",
     "start_time": "2023-07-29T02:00:42.093288Z"
    }
   },
   "outputs": [
    {
     "name": "stdout",
     "output_type": "stream",
     "text": [
      "Low-code development significantly impacts Agile and DevOps processes in several ways. Firstly, it allows for faster builds without compromising on power and flexibility. This is particularly noticeable even for high-performing, mature Agile teams who often find the increased development speed surprising when they first start building with low-code. Secondly, low-code supports the Agile approach of welcoming change. It does this through small teams that work in close collaboration, a microservices-based architecture that focuses effort, and instant cloud deployment to implement changes quickly. Thirdly, low-code platforms provide a visual development environment, as opposed to a traditional code-based one. This allows both development team members and business users to easily engage in the creation and review of functionality, provide feedback, validate assumptions, and identify improvements, thereby evolving the application in a more efficient and collaborative manner. Lastly, in the context of DevOps, which combines software development and IT operations to shorten the system delivery cycle, low-code aids in delivering features, fixes, and updates to end-users faster while ensuring the solutions remain reliable, scalable, and secure.\n"
     ]
    }
   ],
   "source": [
    "myquestion = \"How does development with low-code software impace the Agile and DevOps process?\"\n",
    "\n",
    "results = ask_question(myquestion, myverbosity=False) #,mymodel=\"gpt-3.5-turbo\",myrelevancy=.5,myk=25,mycache=False\n",
    "print(results)\n",
    "\n",
    "save_to_dataframe (myquestion=myquestion, mychain='Executer',myresponse= results)"
   ]
  },
  {
   "cell_type": "code",
   "execution_count": 239,
   "id": "310a0f41",
   "metadata": {
    "ExecuteTime": {
     "end_time": "2023-07-29T02:02:56.625163Z",
     "start_time": "2023-07-29T02:02:24.075218Z"
    }
   },
   "outputs": [
    {
     "name": "stdout",
     "output_type": "stream",
     "text": [
      "The use of Artificial Intelligence (AI) in the medical credentialing process can provide several benefits. \n",
      "\n",
      "1. Streamlining Verification: Traditional methods of verifying a healthcare professional's qualifications can be time-consuming and less precise. AI can streamline this process by quickly and accurately verifying credentials, saving time and resources.\n",
      "\n",
      "2. Expediting Provider Onboarding: The onboarding process for new providers can be lengthy and complex. AI can expedite this process by automating certain tasks, such as background checks and verification of qualifications, reducing the time it takes to onboard new providers.\n",
      "\n",
      "3. Ensuring Compliance: AI can help ensure compliance with regulatory standards by automatically checking for any discrepancies or issues that may violate these standards. This can help prevent potential legal issues and ensure that all providers are properly credentialed.\n",
      "\n",
      "4. Promoting Workflow Efficiency: AI can automate many of the repetitive tasks involved in the credentialing process, such as data entry and document review. This can significantly improve workflow efficiency and allow staff to focus on more complex tasks.\n",
      "\n",
      "5. Improving Standardization: AI can help improve standardization in the interpretation of results during the credentialing process. This can help ensure that all providers are evaluated fairly and consistently.\n",
      "\n",
      "6. Freeing Up Doctors' Time: By automating many of the tasks involved in the credentialing process, AI can free up doctors' time. This allows them to focus more on interacting with patients and expanding their medical knowledge.\n",
      "\n",
      "In summary, the use of AI in the medical credentialing process can lead to increased efficiency, improved compliance, and better use of healthcare professionals' time.\n"
     ]
    }
   ],
   "source": [
    "myquestion = \"How might you benefit from the use of AI in the medical credentialling process?\"\n",
    "\n",
    "results = ask_question(myquestion, myverbosity=False) #,mymodel=\"gpt-3.5-turbo\",myrelevancy=.5,myk=25,mycache=False\n",
    "print(results)\n",
    "\n",
    "save_to_dataframe (myquestion=myquestion, mychain='Executer',myresponse= results)"
   ]
  },
  {
   "cell_type": "code",
   "execution_count": 240,
   "id": "38e28f6d",
   "metadata": {
    "ExecuteTime": {
     "end_time": "2023-07-29T02:06:13.618570Z",
     "start_time": "2023-07-29T02:05:15.171540Z"
    }
   },
   "outputs": [
    {
     "name": "stdout",
     "output_type": "stream",
     "text": [
      "The medical credentialing system mentioned in the text has several functions and capabilities that could provide valuable data to another system. These include:\n",
      "\n",
      "1. Credentialing and Privileging (C&P) Data: The system collects and manages data related to the credentialing and privileging of healthcare providers. This data could be used by another system to verify the qualifications and privileges of a provider.\n",
      "\n",
      "2. Healthcare Risk Management (HRM) Data: The system also manages data related to healthcare risk management. This includes data on malpractice claims, adverse events associated with healthcare, and administrative and criminal actions associated with healthcare providers. Another system could use this data to assess the risk associated with a particular provider or healthcare practice.\n",
      "\n",
      "3. User Account Data: The system is capable of managing user accounts for over 200,000 users, with multi-factor authentication. Another system might want to retrieve this data to verify the identity of a user or to manage user access to certain resources.\n",
      "\n",
      "4. Data Analytics Information: The system is capable of providing value-driven AI/Data Analytics information. Another system might want to retrieve this data to gain insights into the performance of the system or to make data-driven decisions.\n",
      "\n",
      "5. Document Management Data: The system is capable of automating the classification, storage, and retrieval of a large volume of C&P and HRM documentation. Another system might want to retrieve this data to access specific documents or to analyze the data contained in these documents.\n",
      "\n",
      "6. Interoperability/Interface Data: The system is designed to maximize interoperability with other MHS Systems. Another system might want to retrieve this data to facilitate data exchange or to integrate its functions with those of the medical credentialing system.\n",
      "\n",
      "In summary, the type of data that another system might want to retrieve from a medical credentialing system would depend on the functions and capabilities of that system. However, it is likely that the data would be related to the credentialing and privileging of healthcare providers, healthcare risk management, user account management, data analytics, document management, and system interoperability.\n"
     ]
    }
   ],
   "source": [
    "myquestion = \"If another system accesses to a medical credentialling system what kind of data would they want to retrieve?\"\n",
    "\n",
    "results = ask_question(myquestion, myverbosity=False) #,mymodel=\"gpt-3.5-turbo\",myrelevancy=.5,myk=25,mycache=False\n",
    "print(results)\n",
    "\n",
    "save_to_dataframe (myquestion=myquestion, mychain='Executer',myresponse= results)"
   ]
  },
  {
   "cell_type": "code",
   "execution_count": 241,
   "id": "0284deb0",
   "metadata": {
    "ExecuteTime": {
     "end_time": "2023-07-29T02:09:08.714372Z",
     "start_time": "2023-07-29T02:07:26.394766Z"
    }
   },
   "outputs": [
    {
     "name": "stdout",
     "output_type": "stream",
     "text": [
      "A decision support system (DSS) connected to a medical credentialing system or a medical risk management system would assist in making a wide range of decisions. \n",
      "\n",
      "For a medical credentialing system, the DSS would assist in decisions related to:\n",
      "\n",
      "1. Provider Credentialing Data Collection and Record Management: The DSS would help in making decisions about the collection and management of data related to the credentials of healthcare providers. This includes decisions about what data to collect, how to manage it, and how to use it for decision-making.\n",
      "\n",
      "2. Provider Privileging: The DSS would assist in making decisions about the privileging process for healthcare providers. This includes decisions about who should be granted privileges, what those privileges should be, and how to monitor and evaluate the performance of privileged providers.\n",
      "\n",
      "For a medical risk management system, the DSS would assist in decisions related to:\n",
      "\n",
      "1. Healthcare Risk Management: The DSS would help in making decisions about the management of risks associated with healthcare. This includes decisions about how to identify and assess risks, how to implement risk mitigation strategies, and how to monitor and evaluate the effectiveness of these strategies.\n",
      "\n",
      "2. Clinical Quality Review of Adverse Events and Actions: The DSS would assist in making decisions about the review of adverse events and actions in the clinical setting. This includes decisions about how to identify and assess these events and actions, how to respond to them, and how to prevent them from occurring in the future.\n",
      "\n",
      "3. Release of Information: The DSS would help in making decisions about the release of information related to healthcare risk management. This includes decisions about what information to release, to whom, and in what format.\n",
      "\n",
      "In summary, a decision support system connected to these systems would assist in making a wide range of decisions related to the collection and management of data, the granting and monitoring of privileges, the management of risks, the review of adverse events and actions, and the release of information.\n"
     ]
    }
   ],
   "source": [
    "myquestion = \"What kind of decisions would a decision support system serve when connected to a medical credentialing system or a medical risk management system?\"\n",
    "\n",
    "results = ask_question(myquestion, myverbosity=False) #,mymodel=\"gpt-3.5-turbo\",myrelevancy=.5,myk=25,mycache=False\n",
    "print(results)\n",
    "\n",
    "save_to_dataframe (myquestion=myquestion, mychain='Executer',myresponse= results)"
   ]
  },
  {
   "cell_type": "code",
   "execution_count": null,
   "id": "831b1cf0",
   "metadata": {},
   "outputs": [],
   "source": []
  },
  {
   "cell_type": "markdown",
   "id": "dc852307",
   "metadata": {},
   "source": []
  },
  {
   "cell_type": "code",
   "execution_count": 242,
   "id": "dd7fcfd7",
   "metadata": {
    "ExecuteTime": {
     "end_time": "2023-07-29T02:09:08.748877Z",
     "start_time": "2023-07-29T02:09:08.739778Z"
    },
    "scrolled": true
   },
   "outputs": [
    {
     "data": {
      "text/html": [
       "<div>\n",
       "<style scoped>\n",
       "    .dataframe tbody tr th:only-of-type {\n",
       "        vertical-align: middle;\n",
       "    }\n",
       "\n",
       "    .dataframe tbody tr th {\n",
       "        vertical-align: top;\n",
       "    }\n",
       "\n",
       "    .dataframe thead th {\n",
       "        text-align: right;\n",
       "    }\n",
       "</style>\n",
       "<table border=\"1\" class=\"dataframe\">\n",
       "  <thead>\n",
       "    <tr style=\"text-align: right;\">\n",
       "      <th></th>\n",
       "      <th>question</th>\n",
       "      <th>chain</th>\n",
       "      <th>response</th>\n",
       "    </tr>\n",
       "  </thead>\n",
       "  <tbody>\n",
       "    <tr>\n",
       "      <th>0</th>\n",
       "      <td>Guess at the NAME or TITLE of this project</td>\n",
       "      <td>Planner</td>\n",
       "      <td>Title: Military Health System (MHS) Medical Qu...</td>\n",
       "    </tr>\n",
       "    <tr>\n",
       "      <th>1</th>\n",
       "      <td>Which agencies or departments are listed in th...</td>\n",
       "      <td>Planner</td>\n",
       "      <td>The document mentions the Defense Health Agenc...</td>\n",
       "    </tr>\n",
       "    <tr>\n",
       "      <th>2</th>\n",
       "      <td>What function does his application perform?</td>\n",
       "      <td>Planner</td>\n",
       "      <td>The application performs the function of stand...</td>\n",
       "    </tr>\n",
       "    <tr>\n",
       "      <th>3</th>\n",
       "      <td>Who are the users of this application?</td>\n",
       "      <td>Planner</td>\n",
       "      <td>The users of this application are not explicit...</td>\n",
       "    </tr>\n",
       "    <tr>\n",
       "      <th>4</th>\n",
       "      <td>What technology is referenced in the document ...</td>\n",
       "      <td>Planner</td>\n",
       "      <td>The document references several technologies a...</td>\n",
       "    </tr>\n",
       "    <tr>\n",
       "      <th>5</th>\n",
       "      <td>Does the document reference cloud computing? D...</td>\n",
       "      <td>Planner</td>\n",
       "      <td>Yes, the document does reference cloud computi...</td>\n",
       "    </tr>\n",
       "    <tr>\n",
       "      <th>6</th>\n",
       "      <td>Does the document reference COTS (commercial o...</td>\n",
       "      <td>Planner</td>\n",
       "      <td>Yes, the document does reference COTS (commerc...</td>\n",
       "    </tr>\n",
       "    <tr>\n",
       "      <th>7</th>\n",
       "      <td>Does the document describe the current system ...</td>\n",
       "      <td>Planner</td>\n",
       "      <td>No, the document does not describe the current...</td>\n",
       "    </tr>\n",
       "    <tr>\n",
       "      <th>8</th>\n",
       "      <td>Does the document describe future changes they...</td>\n",
       "      <td>Planner</td>\n",
       "      <td>No, the document does not describe future chan...</td>\n",
       "    </tr>\n",
       "    <tr>\n",
       "      <th>9</th>\n",
       "      <td>Assuming we provide a written response to this...</td>\n",
       "      <td>Planner</td>\n",
       "      <td>Based on the provided text, here is a suggeste...</td>\n",
       "    </tr>\n",
       "    <tr>\n",
       "      <th>10</th>\n",
       "      <td>In terms of capabilities and functionality sou...</td>\n",
       "      <td>Planner</td>\n",
       "      <td>The DHA (Defense Health Agency) is seeking cap...</td>\n",
       "    </tr>\n",
       "    <tr>\n",
       "      <th>11</th>\n",
       "      <td>Describe in detail the capabilities for privil...</td>\n",
       "      <td>Planner</td>\n",
       "      <td>The capabilities for privileged and non-privil...</td>\n",
       "    </tr>\n",
       "    <tr>\n",
       "      <th>12</th>\n",
       "      <td>Describe in detail the Capabilities required f...</td>\n",
       "      <td>Planner</td>\n",
       "      <td>The capabilities required for Provider Privile...</td>\n",
       "    </tr>\n",
       "    <tr>\n",
       "      <th>13</th>\n",
       "      <td>In detail describe how does this document defi...</td>\n",
       "      <td>Planner</td>\n",
       "      <td>This document does not explicitly define 'Real...</td>\n",
       "    </tr>\n",
       "    <tr>\n",
       "      <th>14</th>\n",
       "      <td>In detail describe how does this document defi...</td>\n",
       "      <td>Planner</td>\n",
       "      <td>This document defines the required function ca...</td>\n",
       "    </tr>\n",
       "    <tr>\n",
       "      <th>15</th>\n",
       "      <td>Describe the key steps when performing medical...</td>\n",
       "      <td>Executer</td>\n",
       "      <td>Medical credentialing is a meticulous process ...</td>\n",
       "    </tr>\n",
       "    <tr>\n",
       "      <th>16</th>\n",
       "      <td>Are there any open source applications that pe...</td>\n",
       "      <td>Executer</td>\n",
       "      <td>Based on the search results, there do not appe...</td>\n",
       "    </tr>\n",
       "    <tr>\n",
       "      <th>17</th>\n",
       "      <td>What kinds of decisions would require you to u...</td>\n",
       "      <td>Executer</td>\n",
       "      <td>Medical credentialing information is crucial f...</td>\n",
       "    </tr>\n",
       "    <tr>\n",
       "      <th>18</th>\n",
       "      <td>How would a healthcare risk management system ...</td>\n",
       "      <td>Executer</td>\n",
       "      <td>A healthcare risk management system and medica...</td>\n",
       "    </tr>\n",
       "    <tr>\n",
       "      <th>19</th>\n",
       "      <td>What are unique metrics you would need to moni...</td>\n",
       "      <td>Executer</td>\n",
       "      <td>In the context of a medical credentialing syst...</td>\n",
       "    </tr>\n",
       "    <tr>\n",
       "      <th>20</th>\n",
       "      <td>Give a detailed description of the Healthcare ...</td>\n",
       "      <td>Executer</td>\n",
       "      <td>The Healthcare Risk Management (HRM) process i...</td>\n",
       "    </tr>\n",
       "    <tr>\n",
       "      <th>21</th>\n",
       "      <td>How does the \"Resource Management\" process ben...</td>\n",
       "      <td>Executer</td>\n",
       "      <td>The employee credentialing process can signifi...</td>\n",
       "    </tr>\n",
       "    <tr>\n",
       "      <th>22</th>\n",
       "      <td>How does the use of low-code software such as ...</td>\n",
       "      <td>Executer</td>\n",
       "      <td>Low-code software like Appian offers several b...</td>\n",
       "    </tr>\n",
       "    <tr>\n",
       "      <th>23</th>\n",
       "      <td>How does development with low-code software im...</td>\n",
       "      <td>Executer</td>\n",
       "      <td>Low-code development significantly impacts Agi...</td>\n",
       "    </tr>\n",
       "    <tr>\n",
       "      <th>24</th>\n",
       "      <td>How might you benefit from the use of AI in th...</td>\n",
       "      <td>Executer</td>\n",
       "      <td>The use of Artificial Intelligence (AI) in the...</td>\n",
       "    </tr>\n",
       "    <tr>\n",
       "      <th>25</th>\n",
       "      <td>If another system accesses to a medical creden...</td>\n",
       "      <td>Executer</td>\n",
       "      <td>The medical credentialing system mentioned in ...</td>\n",
       "    </tr>\n",
       "    <tr>\n",
       "      <th>26</th>\n",
       "      <td>What kind of decisions would a decision suppor...</td>\n",
       "      <td>Executer</td>\n",
       "      <td>A decision support system (DSS) connected to a...</td>\n",
       "    </tr>\n",
       "  </tbody>\n",
       "</table>\n",
       "</div>"
      ],
      "text/plain": [
       "                                             question     chain  \\\n",
       "0          Guess at the NAME or TITLE of this project   Planner   \n",
       "1   Which agencies or departments are listed in th...   Planner   \n",
       "2         What function does his application perform?   Planner   \n",
       "3              Who are the users of this application?   Planner   \n",
       "4   What technology is referenced in the document ...   Planner   \n",
       "5   Does the document reference cloud computing? D...   Planner   \n",
       "6   Does the document reference COTS (commercial o...   Planner   \n",
       "7   Does the document describe the current system ...   Planner   \n",
       "8   Does the document describe future changes they...   Planner   \n",
       "9   Assuming we provide a written response to this...   Planner   \n",
       "10  In terms of capabilities and functionality sou...   Planner   \n",
       "11  Describe in detail the capabilities for privil...   Planner   \n",
       "12  Describe in detail the Capabilities required f...   Planner   \n",
       "13  In detail describe how does this document defi...   Planner   \n",
       "14  In detail describe how does this document defi...   Planner   \n",
       "15  Describe the key steps when performing medical...  Executer   \n",
       "16  Are there any open source applications that pe...  Executer   \n",
       "17  What kinds of decisions would require you to u...  Executer   \n",
       "18  How would a healthcare risk management system ...  Executer   \n",
       "19  What are unique metrics you would need to moni...  Executer   \n",
       "20  Give a detailed description of the Healthcare ...  Executer   \n",
       "21  How does the \"Resource Management\" process ben...  Executer   \n",
       "22  How does the use of low-code software such as ...  Executer   \n",
       "23  How does development with low-code software im...  Executer   \n",
       "24  How might you benefit from the use of AI in th...  Executer   \n",
       "25  If another system accesses to a medical creden...  Executer   \n",
       "26  What kind of decisions would a decision suppor...  Executer   \n",
       "\n",
       "                                             response  \n",
       "0   Title: Military Health System (MHS) Medical Qu...  \n",
       "1   The document mentions the Defense Health Agenc...  \n",
       "2   The application performs the function of stand...  \n",
       "3   The users of this application are not explicit...  \n",
       "4   The document references several technologies a...  \n",
       "5   Yes, the document does reference cloud computi...  \n",
       "6   Yes, the document does reference COTS (commerc...  \n",
       "7   No, the document does not describe the current...  \n",
       "8   No, the document does not describe future chan...  \n",
       "9   Based on the provided text, here is a suggeste...  \n",
       "10  The DHA (Defense Health Agency) is seeking cap...  \n",
       "11  The capabilities for privileged and non-privil...  \n",
       "12  The capabilities required for Provider Privile...  \n",
       "13  This document does not explicitly define 'Real...  \n",
       "14  This document defines the required function ca...  \n",
       "15  Medical credentialing is a meticulous process ...  \n",
       "16  Based on the search results, there do not appe...  \n",
       "17  Medical credentialing information is crucial f...  \n",
       "18  A healthcare risk management system and medica...  \n",
       "19  In the context of a medical credentialing syst...  \n",
       "20  The Healthcare Risk Management (HRM) process i...  \n",
       "21  The employee credentialing process can signifi...  \n",
       "22  Low-code software like Appian offers several b...  \n",
       "23  Low-code development significantly impacts Agi...  \n",
       "24  The use of Artificial Intelligence (AI) in the...  \n",
       "25  The medical credentialing system mentioned in ...  \n",
       "26  A decision support system (DSS) connected to a...  "
      ]
     },
     "execution_count": 242,
     "metadata": {},
     "output_type": "execute_result"
    }
   ],
   "source": [
    "df_analysis.head(100)"
   ]
  },
  {
   "cell_type": "code",
   "execution_count": 255,
   "id": "6926c07c",
   "metadata": {
    "ExecuteTime": {
     "end_time": "2023-07-29T02:25:35.630128Z",
     "start_time": "2023-07-29T02:25:35.599307Z"
    }
   },
   "outputs": [
    {
     "data": {
      "text/plain": [
       "''"
      ]
     },
     "execution_count": 255,
     "metadata": {},
     "output_type": "execute_result"
    }
   ],
   "source": [
    "pdf_df = df_analysis.sort_values(by='chain',ascending=False)\n",
    "\n",
    "from fpdf import FPDF\n",
    "\n",
    "# class PDF(FPDF):\n",
    "#     def header(self):\n",
    "#         # Logo\n",
    "#         self.image('logo_pb.png', 10, 8, 33)\n",
    "#         # Arial bold 15\n",
    "#         self.set_font('Arial', 'B', 15)\n",
    "#         # Move to the right\n",
    "#         self.cell(80)\n",
    "#         # Title\n",
    "#         self.cell(30, 10, 'Title', 1, 0, 'C')\n",
    "#         # Line break\n",
    "#         self.ln(20)\n",
    "\n",
    "#     # Page footer\n",
    "#     def footer(self):\n",
    "#         # Position at 1.5 cm from bottom\n",
    "#         self.set_y(-15)\n",
    "#         # Arial italic 8\n",
    "#         self.set_font('Arial', 'I', 8)\n",
    "#         # Page number\n",
    "#         self.cell(0, 10, 'Page ' + str(self.page_no()) + '/{nb}', 0, 0, 'C')\n",
    "\n",
    "# Instantiation of inherited class\n",
    "pdf = FPDF()\n",
    "pdf.alias_nb_pages()\n",
    "pdf.add_page()\n",
    "pdf.set_font('Arial', 'BU', 16)\n",
    "pdf.cell(0, 10, \"ChatGPT Q&A's about CCQAS\", 0, 1, 'C')\n",
    "\n",
    "newchain = ''\n",
    "\n",
    "for index, row in pdf_df.iterrows():\n",
    "    if newchain != row['chain']:\n",
    "        if newchain != \"\":\n",
    "            pdf.add_page()\n",
    "        pdf.set_text_color(r=0, g=0, b=255)\n",
    "        pdf.set_font('Arial', 'B', 13)\n",
    "        pdf.multi_cell(0, 10, \"Chain Engine: \"+row['chain'], 0, 1)\n",
    "        newchain = row['chain']\n",
    "        pdf.set_text_color(r=0, g=0, b=0)\n",
    "    pdf.set_font('Arial', 'B', 12)\n",
    "    pdf.cell(0, 6, 'Question:', 0, 1)\n",
    "    pdf.set_font('Times', 'I', 11)\n",
    "    pdf.multi_cell(0, 5, row['question'], 0, 1)\n",
    "    pdf.set_font('Arial', 'B', 12)\n",
    "    pdf.cell(0, 10, 'Response:', 0, 1)\n",
    "    pdf.set_font('Times', '', 11)\n",
    "    pdf.multi_cell(0, 5, row['response'], 0, 1)\n",
    "    pdf.cell(0, 10, '_'*90, 0, 1)\n",
    "    \n",
    "pdf.output('ccqas_chatgpt.pdf', 'F')\n"
   ]
  },
  {
   "cell_type": "code",
   "execution_count": 233,
   "id": "01947475",
   "metadata": {
    "ExecuteTime": {
     "end_time": "2023-07-29T01:50:32.588724Z",
     "start_time": "2023-07-29T01:50:32.585768Z"
    }
   },
   "outputs": [],
   "source": [
    "df_analysis.drop(21, inplace=True)"
   ]
  },
  {
   "cell_type": "code",
   "execution_count": null,
   "id": "67afc007",
   "metadata": {},
   "outputs": [],
   "source": []
  }
 ],
 "metadata": {
  "kernelspec": {
   "display_name": "Python 3 (ipykernel)",
   "language": "python",
   "name": "python3"
  },
  "language_info": {
   "codemirror_mode": {
    "name": "ipython",
    "version": 3
   },
   "file_extension": ".py",
   "mimetype": "text/x-python",
   "name": "python",
   "nbconvert_exporter": "python",
   "pygments_lexer": "ipython3",
   "version": "3.11.3"
  },
  "latex_envs": {
   "LaTeX_envs_menu_present": true,
   "autoclose": false,
   "autocomplete": true,
   "bibliofile": "biblio.bib",
   "cite_by": "apalike",
   "current_citInitial": 1,
   "eqLabelWithNumbers": true,
   "eqNumInitial": 1,
   "hotkeys": {
    "equation": "Ctrl-E",
    "itemize": "Ctrl-I"
   },
   "labels_anchors": false,
   "latex_user_defs": false,
   "report_style_numbering": false,
   "user_envs_cfg": false
  },
  "toc": {
   "base_numbering": 1,
   "nav_menu": {},
   "number_sections": true,
   "sideBar": true,
   "skip_h1_title": false,
   "title_cell": "Table of Contents",
   "title_sidebar": "Contents",
   "toc_cell": false,
   "toc_position": {},
   "toc_section_display": true,
   "toc_window_display": false
  },
  "varInspector": {
   "cols": {
    "lenName": 16,
    "lenType": 16,
    "lenVar": 40
   },
   "kernels_config": {
    "python": {
     "delete_cmd_postfix": "",
     "delete_cmd_prefix": "del ",
     "library": "var_list.py",
     "varRefreshCmd": "print(var_dic_list())"
    },
    "r": {
     "delete_cmd_postfix": ") ",
     "delete_cmd_prefix": "rm(",
     "library": "var_list.r",
     "varRefreshCmd": "cat(var_dic_list()) "
    }
   },
   "types_to_exclude": [
    "module",
    "function",
    "builtin_function_or_method",
    "instance",
    "_Feature"
   ],
   "window_display": false
  }
 },
 "nbformat": 4,
 "nbformat_minor": 5
}
